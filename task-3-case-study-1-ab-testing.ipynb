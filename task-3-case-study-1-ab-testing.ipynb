{
 "cells": [
  {
   "cell_type": "markdown",
   "metadata": {},
   "source": [
    "## Task iii - Case Study 1: Design and Execute an A/B Test\n",
    "\n",
    "1. Python Developer: Sulaiha Subi\n",
    "2. Created Date: 24-08-24\n"
   ]
  },
  {
   "cell_type": "markdown",
   "metadata": {},
   "source": [
    "### Promotional Offer A/B Test\n",
    "\n",
    "---\n",
    "\n",
    "#### **1. Introduction**\n",
    "\n",
    "**Purpose:**  \n",
    "This document outlines the A/B testing strategy for evaluating different promotional offers on Floward’s website. The goal is to determine which type of promotion or discount has the most significant impact on conversion rates, average order value (AOV), and overall revenue.\n"
   ]
  },
  {
   "cell_type": "markdown",
   "metadata": {},
   "source": [
    "---\n",
    "\n",
    "#### **2. Hypothesis**\n",
    "\n",
    "**Hypothesis:**  \n",
    "\"Offering targeted promotional discounts will increase conversion rates and average order value (AOV), with different types of promotions performing better depending on the customer segment and purchase context.\"\n",
    "\n",
    "**Key Metrics:**  \n",
    "- **Primary Metrics:** Conversion Rate, Average Order Value (AOV)\n",
    "- **Secondary Metrics:** Total Revenue, Cart Abandonment Rate, Customer Satisfaction\n"
   ]
  },
  {
   "cell_type": "markdown",
   "metadata": {},
   "source": [
    "---\n",
    "\n",
    "#### **3. Experiment Design**\n",
    "\n",
    "**3.1. Types of Promotional Offers to Test**\n",
    "\n",
    "The A/B test will compare several types of promotional offers, such as:\n",
    "\n",
    "1. **Standard % Off Discounts:**  \n",
    "   A fixed percentage discount on all products (e.g., 10% off for first order).\n",
    "\n",
    "2. **% Off Discounts Once a Certain Price is Reached:**  \n",
    "   A percentage discount that applies once the customer’s cart reaches a certain value (e.g., 15% off orders over $100).\n",
    "\n",
    "3. **$ Off Discounts Once a Certain Price is Reached:**  \n",
    "   A fixed dollar amount discount for orders over a certain value (e.g., $20 off orders over $100).\n",
    "\n",
    "4. **Free Shipping Offers:**  \n",
    "   Free shipping on all orders or on orders over a certain value.\n",
    "\n",
    "5. **Buy One Get One Free (BOGO) Offers:**  \n",
    "   Buy one product and get another product of equal or lesser value for free.\n",
    "\n",
    "6. **Product Bundling Offers:**  \n",
    "   Discounts on bundled products when purchased together (e.g., a bouquet with chocolates at a reduced price).\n"
   ]
  },
  {
   "cell_type": "markdown",
   "metadata": {},
   "source": [
    "---\n",
    "\n",
    "#### **3. Experiment Design**\n",
    "\n",
    "**3.1. Types of Promotional Offers to Test**\n",
    "\n",
    "The A/B test will compare several types of promotional offers, such as:\n",
    "\n",
    "1. **Standard % Off Discounts:**  \n",
    "   A fixed percentage discount on all products (e.g., 10% off sitewide).\n",
    "\n",
    "2. **% Off Discounts Once a Certain Price is Reached:**  \n",
    "   A percentage discount that applies once the customer’s cart reaches a certain value (e.g., 15% off orders over $100).\n",
    "\n",
    "3. **$ Off Discounts Once a Certain Price is Reached:**  \n",
    "   A fixed dollar amount discount for orders over a certain value (e.g., $20 off orders over $100).\n",
    "\n",
    "4. **Free Shipping Offers:**  \n",
    "   Free shipping on all orders or on orders over a certain value.\n",
    "\n",
    "5. **Buy One Get One Free (BOGO) Offers:**  \n",
    "   Buy one product and get another product of equal or lesser value for free.\n",
    "\n",
    "6. **Product Bundling Offers:**  \n",
    "   Discounts on bundled products when purchased together (e.g., a bouquet with chocolates at a reduced price).\n"
   ]
  },
  {
   "cell_type": "markdown",
   "metadata": {},
   "source": [
    "**3.2. Control and Treatment Groups**\n",
    "\n",
    "- **Control Group:**  \n",
    "  Users who see the standard pricing without any promotions or discounts.\n",
    "\n",
    "- **Treatment Groups:**  \n",
    "  Users who see one of the promotional offers listed above. Each type of offer will be tested as a separate treatment group.\n"
   ]
  },
  {
   "cell_type": "markdown",
   "metadata": {},
   "source": [
    "**3.3. Sample Size and Duration**\n",
    "\n",
    "- **Sample Size:**  \n",
    "  Use a statistical power calculator to determine the required sample size based on expected improvements in conversion rates and AOV. Aim for a sample size that allows each treatment group to be compared effectively against the control group.\n",
    "\n",
    "- **Duration:**  \n",
    "  The experiment will run for 2-4 weeks or until statistical significance is reached. The duration should be sufficient to capture a variety of customer behaviors across different days and times.\n"
   ]
  },
  {
   "cell_type": "markdown",
   "metadata": {},
   "source": [
    "---\n",
    "\n",
    "#### **4. Execution**\n",
    "\n",
    "**4.1. Implementation of Promotional Offers**\n",
    "\n",
    "- **Offer Setup:**  \n",
    "  Implement each promotional offer as outlined in the treatment groups. Ensure that the offer details are clearly communicated on relevant product pages, in the cart, and during checkout.\n",
    "\n",
    "- **Offer Highlighting:**  \n",
    "  Make sure the promotions are prominently displayed to users throughout their shopping journey to maximize their awareness and the likelihood of them taking advantage of the offer.\n"
   ]
  },
  {
   "cell_type": "markdown",
   "metadata": {},
   "source": [
    "**4.2. Monitoring the Experiment**\n",
    "\n",
    "- **Technical Monitoring:**  \n",
    "  Ensure the promotional offers are applied correctly for the treatment groups. Monitor for any technical issues, such as incorrect discount application or visibility problems.\n",
    "\n",
    "- **Data Integrity:**  \n",
    "  Ensure data is accurately collected for all groups, including the control group and each treatment group. Key metrics to monitor include conversion rates, AOV, total revenue, and cart abandonment rates.\n"
   ]
  },
  {
   "cell_type": "markdown",
   "metadata": {},
   "source": [
    "**4.3. Data Collection**\n",
    "\n",
    "- Data will be collected in real-time and stored in a centralized database for analysis. Key metrics to be tracked include:\n",
    "  - Conversion Rate\n",
    "  - Average Order Value (AOV)\n",
    "  - Total Revenue\n",
    "  - Cart Abandonment Rate\n",
    "  - Interaction with Promotional Offers (e.g., click-through rates, redemption rates)\n"
   ]
  },
  {
   "cell_type": "markdown",
   "metadata": {},
   "source": [
    "---\n",
    "\n",
    "#### **5. Analysis**\n",
    "\n",
    "**5.1. Statistical Analysis**\n",
    "\n",
    "- Perform a statistical comparison of the key metrics between the control and each treatment group using appropriate statistical tests (e.g., t-test for AOV, chi-square test for conversion rates). The goal is to identify which promotional offer produces the most significant improvement in conversion rates and AOV.\n"
   ]
  },
  {
   "cell_type": "markdown",
   "metadata": {},
   "source": [
    "**5.2. Result Interpretation**\n",
    "\n",
    "- **Positive Outcome:**  \n",
    "  If one or more promotional offers show a significant increase in conversion rates and AOV, those offers will be considered successful and recommended for wider implementation.\n",
    "\n",
    "- **Inconclusive/Negative Outcome:**  \n",
    "  If the results are inconclusive or show no improvement, further analysis will be conducted to understand why the promotions did not perform as expected. This may include examining different customer segments or testing alternative promotional strategies.\n"
   ]
  },
  {
   "cell_type": "markdown",
   "metadata": {},
   "source": [
    "---\n",
    "\n",
    "#### **6. Conclusion and Recommendations**\n",
    "\n",
    "**6.1. Decision Making**\n",
    "\n",
    "- Based on the analysis, decide which promotional offers, if any, should be implemented site-wide or targeted to specific customer segments. Consider whether to continue testing with variations or explore alternative promotional strategies.\n"
   ]
  },
  {
   "cell_type": "markdown",
   "metadata": {},
   "source": [
    "---\n",
    "\n",
    "#### **7. Future Considerations**\n",
    "\n",
    "- **Seasonal Promotions:**  \n",
    "  Consider running similar A/B tests during peak seasons (e.g., holidays, Valentine’s Day) to determine if certain promotions perform better during specific times of the year.\n",
    "\n",
    "- **Segmented Promotions:**  \n",
    "  Test personalized or segmented promotions based on customer behavior, purchase history, or demographics to further refine the impact of promotions.\n"
   ]
  },
  {
   "cell_type": "markdown",
   "metadata": {},
   "source": [
    "---\n",
    "\n",
    "This documentation provides a structured approach to testing different promotional offers at Floward. By evaluating which promotions resonate best with customers, Floward can optimize its promotional strategy to drive higher conversion rates and revenue.\n"
   ]
  }
 ],
 "metadata": {
  "kernelspec": {
   "display_name": "Python 3",
   "language": "python",
   "name": "python3"
  },
  "language_info": {
   "name": "python",
   "version": "3.9.6"
  }
 },
 "nbformat": 4,
 "nbformat_minor": 2
}
