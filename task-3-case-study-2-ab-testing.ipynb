{
 "cells": [
  {
   "cell_type": "markdown",
   "metadata": {},
   "source": [
    "## Task iii - Case Study 1: Design and Execute an A/B Test\n",
    "\n",
    "1. Python Developer: Sulaiha Subi\n",
    "2. Created Date: 24-08-24\n"
   ]
  },
  {
   "cell_type": "markdown",
   "metadata": {},
   "source": [
    "### Implementing an upsell and cross-sell feature on the checkout page will increase the average order value (AOV) and overall revenue\n",
    "\n",
    "---\n",
    "\n",
    "#### **1. Introduction**\n",
    "\n",
    "**Purpose:**  \n",
    "This document outlines the A/B testing strategy for implementing an upselling and cross-selling feature on the checkout page at Floward. The goal of this test is to determine whether presenting relevant upsell and cross-sell suggestions during the checkout process can increase the average order value (AOV) and overall revenue without negatively impacting the conversion rate.\n"
   ]
  },
  {
   "cell_type": "markdown",
   "metadata": {},
   "source": [
    "---\n",
    "\n",
    "#### **2. Definitions and Examples**\n",
    "\n",
    "**2.1. Upselling**\n",
    "\n",
    "- **Definition:**  \n",
    "  Upselling is a sales technique where a seller encourages the customer to purchase a more expensive, upgraded, or premium version of the item being considered. The objective is to increase the overall transaction value by offering a product with enhanced features or benefits that provide more value to the customer.\n",
    "\n",
    "- **Example - Apple:**  \n",
    "  Apple is a master of upselling. When a customer is considering buying an iPhone, Apple might suggest a higher-end model with more storage capacity or additional features like a better camera. For instance, if a customer is looking at the iPhone 15, Apple might upsell them to the iPhone 15 Pro Max by highlighting the superior camera system and longer battery life.\n",
    "\n",
    "**2.2. Cross-Selling**\n",
    "\n",
    "- **Definition:**  \n",
    "  Cross-selling involves suggesting complementary products or services to the customer that enhance or are related to the item they are purchasing. The goal is to increase the overall basket size by encouraging customers to add additional items to their purchase.\n",
    "\n",
    "- **Example - Amazon:**  \n",
    "  Amazon excels in cross-selling by showing customers related products on the product page, during checkout, or in the \"Frequently Bought Together\" section. For example, if a customer is purchasing a Kindle, Amazon might cross-sell a protective case, a screen protector, or a Kindle Unlimited subscription, all of which are complementary to the main product.\n"
   ]
  },
  {
   "cell_type": "markdown",
   "metadata": {},
   "source": [
    "---\n",
    "\n",
    "#### **3. Hypothesis**\n",
    "\n",
    "**Hypothesis:**  \n",
    "\"Presenting relevant upsell and cross-sell suggestions during checkout will lead to an increase in average order value (AOV) and total revenue.\"\n",
    "\n",
    "**Key Metrics:**  \n",
    "- **Primary Metric:** Average Order Value (AOV)\n",
    "- **Secondary Metrics:** Total Revenue, Conversion Rate, Interaction Rate with Upsell/Cross-Sell Suggestions\n"
   ]
  },
  {
   "cell_type": "markdown",
   "metadata": {},
   "source": [
    "---\n",
    "\n",
    "#### **4. Experiment Design**\n",
    "\n",
    "**4.1. Control and Treatment Groups**\n",
    "\n",
    "- **Control Group:**  \n",
    "  Users who experience the standard checkout process without any upsell or cross-sell suggestions.\n",
    "  \n",
    "- **Treatment Group:**  \n",
    "  Users who are presented with relevant upsell (e.g., a higher-priced version of the item they are purchasing) and cross-sell (e.g., complementary products) suggestions during the checkout process.\n"
   ]
  },
  {
   "cell_type": "markdown",
   "metadata": {},
   "source": [
    "**4.2. Sample Size and Duration**\n",
    "\n",
    "- **Sample Size:**  \n",
    "  The required sample size will be calculated using a statistical power calculator, considering the current AOV and the expected lift (e.g., a 5-10% increase in AOV). The target is to achieve statistical significance with a 95% confidence level and 80% power. Assuming a current AOV of $50, and expecting a 10% increase, we might need approximately 5,000 users per group (control and treatment).\n",
    "\n",
    "- **Duration:**  \n",
    "  The experiment will run for 2-4 weeks, or until a statistically significant result is achieved. The duration is chosen to ensure enough transactions are captured to account for variability in user behavior and any external factors (e.g., promotions, holidays) that might affect results.\n"
   ]
  },
  {
   "cell_type": "markdown",
   "metadata": {},
   "source": [
    "**4.3. Random Assignment**\n",
    "\n",
    "- Users will be randomly assigned to either the control or treatment group using an A/B testing platform (e.g., Google Optimize, Optimizely). Random assignment ensures that the two groups are comparable and that any differences in outcomes can be attributed to the upsell/cross-sell feature.\n"
   ]
  },
  {
   "cell_type": "markdown",
   "metadata": {},
   "source": [
    "---\n",
    "\n",
    "#### **5. Execution**\n",
    "\n",
    "**5.1. Implementation of Upsell and Cross-Sell Features**\n",
    "\n",
    "- **Upsell Features:**  \n",
    "  Suggest a premium version of the product the user is purchasing (e.g., a larger bouquet or an upgraded gift set). The upsell suggestion will be presented on the checkout page, clearly communicating the benefits of choosing the premium option.\n",
    "\n",
    "- **Cross-Sell Features:**  \n",
    "  Suggest complementary products (e.g., chocolates, a vase, or a greeting card) that can be added to the cart with one click. These suggestions will be displayed as users review their cart items during the checkout process.\n"
   ]
  },
  {
   "cell_type": "markdown",
   "metadata": {},
   "source": [
    "**5.2. Monitoring the Experiment**\n",
    "\n",
    "- **Technical Monitoring:**  \n",
    "  Regularly check the functionality of the upsell and cross-sell features to ensure they are being correctly presented to the treatment group. Monitor for any technical issues, such as slow page loading times or errors in displaying the suggestions.\n",
    "\n",
    "- **Data Integrity:**  \n",
    "  Ensure that data is being accurately captured for both the control and treatment groups. This includes tracking AOV, conversion rates, total revenue, and interaction rates with upsell/cross-sell suggestions.\n"
   ]
  },
  {
   "cell_type": "markdown",
   "metadata": {},
   "source": [
    "**5.3. Data Collection**\n",
    "\n",
    "- Data will be collected in real-time and stored in a centralized database for analysis. Key metrics to be tracked include:\n",
    "  - **Average Order Value (AOV)**\n",
    "  - **Total Revenue**\n",
    "  - **Conversion Rate**\n",
    "  - **Interaction Rate:** The percentage of users who interact with the upsell/cross-sell suggestions (e.g., clicks, add-to-cart actions).\n"
   ]
  },
  {
   "cell_type": "markdown",
   "metadata": {},
   "source": [
    "---\n",
    "\n",
    "#### **6. Analysis**\n",
    "\n",
    "**6.1. Statistical Analysis**\n",
    "\n",
    "- Perform a statistical comparison of the AOV, total revenue, and conversion rates between the control and treatment groups using appropriate statistical tests (e.g., t-test for AOV and revenue, chi-square test for conversion rates). The goal is to determine if the differences observed are statistically significant (p < 0.05).\n"
   ]
  },
  {
   "cell_type": "markdown",
   "metadata": {},
   "source": [
    "**6.2. Result Interpretation**\n",
    "\n",
    "- **Positive Outcome:**  \n",
    "  If the treatment group shows a significant increase in AOV and total revenue without a decrease in conversion rate, the upsell and cross-sell feature will be considered successful and recommended for full implementation.\n",
    "\n",
    "- **Inconclusive/Negative Outcome:**  \n",
    "  If the results are inconclusive or show a negative impact (e.g., decrease in conversion rates or insignificant increase in AOV), further analysis will be conducted. This may include:\n",
    "  - Segmenting users to identify groups that respond differently to the upsell/cross-sell feature.\n",
    "  - Testing different upsell/cross-sell products or placements.\n",
    "  - Collecting qualitative feedback to understand user behavior.\n"
   ]
  },
  {
   "cell_type": "markdown",
   "metadata": {},
   "source": [
    "---\n",
    "\n",
    "#### **7. Conclusion and Recommendations**\n",
    "\n",
    "**7.1. Decision Making**\n",
    "\n",
    "- Based on the analysis, a decision will be made whether to roll out the upsell and cross-sell features to all users, continue iterating on the feature, or abandon the approach if it proves ineffective.\n"
   ]
  }
 ],
 "metadata": {
  "kernelspec": {
   "display_name": "Python 3",
   "language": "python",
   "name": "python3"
  },
  "language_info": {
   "name": "python",
   "version": "3.9.6"
  }
 },
 "nbformat": 4,
 "nbformat_minor": 2
}
