{
 "cells": [
  {
   "cell_type": "markdown",
   "metadata": {},
   "source": [
    "#### Case Study 1: Clustering Model for Customer Segmentation\n",
    "\n",
    "1. Python Developer: Sulaiha Subi\n",
    "2. Created Date: 24-08-24\n",
    "3. Goal:- \n",
    "    > The result will be a set of customer segments that the business can target with specific marketing strategies.\n",
    "    \n",
    "    >This could help in personalizing the shopping experience and improving overall engagement and conversion rates."
   ]
  },
  {
   "cell_type": "code",
   "execution_count": null,
   "metadata": {},
   "outputs": [],
   "source": [
    "### Check out my Portfolio at https://sulaihasubi.github.io/\n",
    "[![wakatime](https://wakatime.com/badge/user/7582c4e3-d09e-4202-8f65-4d19e7c9585e/project/bc49df77-8111-4aff-bf0c-139a4345902a.svg)](https://wakatime.com/badge/user/7582c4e3-d09e-4202-8f65-4d19e7c9585e/project/bc49df77-8111-4aff-bf0c-139a4345902a)\n",
    "<a href=\"https://github.com/sulaihasubi/sulaihasubi.github.io/commits/master\">\n",
    "        <img alt=\"Last commit\" src=\"https://img.shields.io/github/last-commit/sulaihasubi/sulaihasubi.github.io\">\n",
    "</a>\n"
   ]
  }
 ],
 "metadata": {
  "language_info": {
   "name": "python"
  }
 },
 "nbformat": 4,
 "nbformat_minor": 2
}
