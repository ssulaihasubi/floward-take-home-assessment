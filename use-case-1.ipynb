{
 "cells": [
  {
   "cell_type": "markdown",
   "metadata": {},
   "source": [
    "#### Case Study 1: Clustering Model for Customer Segmentation\n",
    "\n",
    "1. Python Developer: Sulaiha Subi\n",
    "2. Created Date: 24-08-24\n",
    "3. Goal:- \n",
    "    > The result will be a set of customer segments that the business can target with specific marketing strategies.\n",
    "    \n",
    "    >This could help in personalizing the shopping experience and improving overall engagement and conversion rates."
   ]
  }
 ],
 "metadata": {
  "language_info": {
   "name": "python"
  }
 },
 "nbformat": 4,
 "nbformat_minor": 2
}
