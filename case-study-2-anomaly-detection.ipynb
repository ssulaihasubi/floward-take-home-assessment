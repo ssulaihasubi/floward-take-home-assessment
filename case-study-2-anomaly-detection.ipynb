{
 "cells": [
  {
   "cell_type": "markdown",
   "metadata": {},
   "source": [
    "## Case Study 2: Diagnostic Analysis for Main Metrics Performance\n",
    "\n",
    "1. Python Developer: Sulaiha Subi\n",
    "2. Created Date: 24-08-24\n",
    "3. The goal of Case Study 2 is to optimize Floward's main metrics performance by:\n",
    "\n",
    "    > Identifying Anomalies: Detecting unusual or unexpected changes in the main metrics over time. This involves pinpointing specific time periods where these anomalies occur, which could indicate potential issues or opportunities.\n",
    "    \n",
    "    > Understanding Driving Metrics: Determining which other metrics (from the provided order and marketing datasets) have a significant influence on the main metrics. This analysis will help in understanding the factors contributing to the anomalies and overall performance of the main metrics."
   ]
  },
  {
   "cell_type": "markdown",
   "metadata": {},
   "source": [
    "### Step 0: Install Libraries"
   ]
  },
  {
   "cell_type": "code",
   "execution_count": 1,
   "metadata": {},
   "outputs": [
    {
     "name": "stdout",
     "output_type": "stream",
     "text": [
      "Defaulting to user installation because normal site-packages is not writeable\n",
      "Requirement already satisfied: pandas in /Users/sulaihasubi/Library/Python/3.9/lib/python/site-packages (2.2.2)\n",
      "Requirement already satisfied: numpy in /Users/sulaihasubi/Library/Python/3.9/lib/python/site-packages (1.26.4)\n",
      "Requirement already satisfied: matplotlib in /Users/sulaihasubi/Library/Python/3.9/lib/python/site-packages (3.9.2)\n",
      "Requirement already satisfied: seaborn in /Users/sulaihasubi/Library/Python/3.9/lib/python/site-packages (0.13.2)\n",
      "Requirement already satisfied: scikit-learn in /Users/sulaihasubi/Library/Python/3.9/lib/python/site-packages (1.5.1)\n",
      "Requirement already satisfied: statsmodels in /Users/sulaihasubi/Library/Python/3.9/lib/python/site-packages (0.14.2)\n",
      "Requirement already satisfied: scipy in /Users/sulaihasubi/Library/Python/3.9/lib/python/site-packages (1.13.1)\n",
      "Requirement already satisfied: pytz>=2020.1 in /Users/sulaihasubi/Library/Python/3.9/lib/python/site-packages (from pandas) (2024.1)\n",
      "Requirement already satisfied: tzdata>=2022.7 in /Users/sulaihasubi/Library/Python/3.9/lib/python/site-packages (from pandas) (2024.1)\n",
      "Requirement already satisfied: python-dateutil>=2.8.2 in /Users/sulaihasubi/Library/Python/3.9/lib/python/site-packages (from pandas) (2.9.0.post0)\n",
      "Requirement already satisfied: fonttools>=4.22.0 in /Users/sulaihasubi/Library/Python/3.9/lib/python/site-packages (from matplotlib) (4.53.1)\n",
      "Requirement already satisfied: packaging>=20.0 in /Users/sulaihasubi/Library/Python/3.9/lib/python/site-packages (from matplotlib) (24.1)\n",
      "Requirement already satisfied: pillow>=8 in /Users/sulaihasubi/Library/Python/3.9/lib/python/site-packages (from matplotlib) (10.4.0)\n",
      "Requirement already satisfied: contourpy>=1.0.1 in /Users/sulaihasubi/Library/Python/3.9/lib/python/site-packages (from matplotlib) (1.2.1)\n",
      "Requirement already satisfied: kiwisolver>=1.3.1 in /Users/sulaihasubi/Library/Python/3.9/lib/python/site-packages (from matplotlib) (1.4.5)\n",
      "Requirement already satisfied: pyparsing>=2.3.1 in /Users/sulaihasubi/Library/Python/3.9/lib/python/site-packages (from matplotlib) (3.1.2)\n",
      "Requirement already satisfied: importlib-resources>=3.2.0 in /Users/sulaihasubi/Library/Python/3.9/lib/python/site-packages (from matplotlib) (6.4.4)\n",
      "Requirement already satisfied: cycler>=0.10 in /Users/sulaihasubi/Library/Python/3.9/lib/python/site-packages (from matplotlib) (0.12.1)\n",
      "Requirement already satisfied: joblib>=1.2.0 in /Users/sulaihasubi/Library/Python/3.9/lib/python/site-packages (from scikit-learn) (1.4.2)\n",
      "Requirement already satisfied: threadpoolctl>=3.1.0 in /Users/sulaihasubi/Library/Python/3.9/lib/python/site-packages (from scikit-learn) (3.5.0)\n",
      "Requirement already satisfied: patsy>=0.5.6 in /Users/sulaihasubi/Library/Python/3.9/lib/python/site-packages (from statsmodels) (0.5.6)\n",
      "Requirement already satisfied: zipp>=3.1.0 in /Users/sulaihasubi/Library/Python/3.9/lib/python/site-packages (from importlib-resources>=3.2.0->matplotlib) (3.20.0)\n",
      "Requirement already satisfied: six in /Library/Developer/CommandLineTools/Library/Frameworks/Python3.framework/Versions/3.9/lib/python3.9/site-packages (from patsy>=0.5.6->statsmodels) (1.15.0)\n",
      "\u001b[33mWARNING: You are using pip version 21.2.4; however, version 24.2 is available.\n",
      "You should consider upgrading via the '/Library/Developer/CommandLineTools/usr/bin/python3 -m pip install --upgrade pip' command.\u001b[0m\n",
      "Note: you may need to restart the kernel to use updated packages.\n"
     ]
    }
   ],
   "source": [
    "pip install pandas numpy matplotlib seaborn scikit-learn statsmodels scipy\n"
   ]
  }
 ],
 "metadata": {
  "kernelspec": {
   "display_name": "Python 3",
   "language": "python",
   "name": "python3"
  },
  "language_info": {
   "codemirror_mode": {
    "name": "ipython",
    "version": 3
   },
   "file_extension": ".py",
   "mimetype": "text/x-python",
   "name": "python",
   "nbconvert_exporter": "python",
   "pygments_lexer": "ipython3",
   "version": "3.9.6"
  }
 },
 "nbformat": 4,
 "nbformat_minor": 2
}
