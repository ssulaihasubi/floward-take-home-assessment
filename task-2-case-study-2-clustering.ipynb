{
 "cells": [
  {
   "cell_type": "markdown",
   "metadata": {},
   "source": [
    "## Task ii - Case Study 1: Clustering Model for Customer Segmentation\n",
    "\n",
    "1. Python Developer: Sulaiha Subi\n",
    "2. Created Date: 24-08-24\n",
    "3. Goal:- \n",
    "    > The result will be a set of customer segments that the business can target with specific marketing strategies.\n",
    "    \n",
    "    >This could help in personalizing the shopping experience and improving overall engagement and conversion rates."
   ]
  },
  {
   "cell_type": "markdown",
   "metadata": {},
   "source": [
    "### Step 0: Install Libraries"
   ]
  },
  {
   "cell_type": "code",
   "execution_count": 1,
   "metadata": {},
   "outputs": [
    {
     "name": "stdout",
     "output_type": "stream",
     "text": [
      "Defaulting to user installation because normal site-packages is not writeable\n",
      "Requirement already satisfied: pandas in /Users/sulaihasubi/Library/Python/3.9/lib/python/site-packages (2.2.2)\n",
      "Requirement already satisfied: numpy in /Users/sulaihasubi/Library/Python/3.9/lib/python/site-packages (1.26.4)\n",
      "Requirement already satisfied: matplotlib in /Users/sulaihasubi/Library/Python/3.9/lib/python/site-packages (3.9.2)\n",
      "Requirement already satisfied: seaborn in /Users/sulaihasubi/Library/Python/3.9/lib/python/site-packages (0.13.2)\n",
      "Requirement already satisfied: scikit-learn in /Users/sulaihasubi/Library/Python/3.9/lib/python/site-packages (1.5.1)\n",
      "Requirement already satisfied: scipy in /Users/sulaihasubi/Library/Python/3.9/lib/python/site-packages (1.13.1)\n",
      "Requirement already satisfied: plotly in /Users/sulaihasubi/Library/Python/3.9/lib/python/site-packages (5.23.0)\n",
      "Requirement already satisfied: notebook in /Users/sulaihasubi/Library/Python/3.9/lib/python/site-packages (7.2.1)\n",
      "Requirement already satisfied: jupyterlab in /Users/sulaihasubi/Library/Python/3.9/lib/python/site-packages (4.2.4)\n",
      "Requirement already satisfied: openpyxl in /Users/sulaihasubi/Library/Python/3.9/lib/python/site-packages (3.1.5)\n",
      "Requirement already satisfied: yellowbrick in /Users/sulaihasubi/Library/Python/3.9/lib/python/site-packages (1.5)\n",
      "Requirement already satisfied: pandas-profiling in /Users/sulaihasubi/Library/Python/3.9/lib/python/site-packages (3.6.6)\n",
      "Requirement already satisfied: tzdata>=2022.7 in /Users/sulaihasubi/Library/Python/3.9/lib/python/site-packages (from pandas) (2024.1)\n",
      "Requirement already satisfied: pytz>=2020.1 in /Users/sulaihasubi/Library/Python/3.9/lib/python/site-packages (from pandas) (2024.1)\n",
      "Requirement already satisfied: python-dateutil>=2.8.2 in /Users/sulaihasubi/Library/Python/3.9/lib/python/site-packages (from pandas) (2.9.0.post0)\n",
      "Requirement already satisfied: packaging>=20.0 in /Users/sulaihasubi/Library/Python/3.9/lib/python/site-packages (from matplotlib) (24.1)\n",
      "Requirement already satisfied: fonttools>=4.22.0 in /Users/sulaihasubi/Library/Python/3.9/lib/python/site-packages (from matplotlib) (4.53.1)\n",
      "Requirement already satisfied: importlib-resources>=3.2.0 in /Users/sulaihasubi/Library/Python/3.9/lib/python/site-packages (from matplotlib) (6.4.4)\n",
      "Requirement already satisfied: cycler>=0.10 in /Users/sulaihasubi/Library/Python/3.9/lib/python/site-packages (from matplotlib) (0.12.1)\n",
      "Requirement already satisfied: kiwisolver>=1.3.1 in /Users/sulaihasubi/Library/Python/3.9/lib/python/site-packages (from matplotlib) (1.4.5)\n",
      "Requirement already satisfied: pyparsing>=2.3.1 in /Users/sulaihasubi/Library/Python/3.9/lib/python/site-packages (from matplotlib) (3.1.2)\n",
      "Requirement already satisfied: pillow>=8 in /Users/sulaihasubi/Library/Python/3.9/lib/python/site-packages (from matplotlib) (10.4.0)\n",
      "Requirement already satisfied: contourpy>=1.0.1 in /Users/sulaihasubi/Library/Python/3.9/lib/python/site-packages (from matplotlib) (1.2.1)\n",
      "Requirement already satisfied: threadpoolctl>=3.1.0 in /Users/sulaihasubi/Library/Python/3.9/lib/python/site-packages (from scikit-learn) (3.5.0)\n",
      "Requirement already satisfied: joblib>=1.2.0 in /Users/sulaihasubi/Library/Python/3.9/lib/python/site-packages (from scikit-learn) (1.4.2)\n",
      "Requirement already satisfied: tenacity>=6.2.0 in /Users/sulaihasubi/Library/Python/3.9/lib/python/site-packages (from plotly) (9.0.0)\n",
      "Requirement already satisfied: jupyterlab-server<3,>=2.27.1 in /Users/sulaihasubi/Library/Python/3.9/lib/python/site-packages (from notebook) (2.27.3)\n",
      "Requirement already satisfied: tornado>=6.2.0 in /Users/sulaihasubi/Library/Python/3.9/lib/python/site-packages (from notebook) (6.4.1)\n",
      "Requirement already satisfied: notebook-shim<0.3,>=0.2 in /Users/sulaihasubi/Library/Python/3.9/lib/python/site-packages (from notebook) (0.2.4)\n",
      "Requirement already satisfied: jupyter-server<3,>=2.4.0 in /Users/sulaihasubi/Library/Python/3.9/lib/python/site-packages (from notebook) (2.14.2)\n",
      "Requirement already satisfied: jupyter-lsp>=2.0.0 in /Users/sulaihasubi/Library/Python/3.9/lib/python/site-packages (from jupyterlab) (2.2.5)\n",
      "Requirement already satisfied: tomli>=1.2.2 in /Users/sulaihasubi/Library/Python/3.9/lib/python/site-packages (from jupyterlab) (2.0.1)\n",
      "Requirement already satisfied: jinja2>=3.0.3 in /Users/sulaihasubi/Library/Python/3.9/lib/python/site-packages (from jupyterlab) (3.1.4)\n",
      "Requirement already satisfied: importlib-metadata>=4.8.3 in /Users/sulaihasubi/Library/Python/3.9/lib/python/site-packages (from jupyterlab) (8.4.0)\n",
      "Requirement already satisfied: ipykernel>=6.5.0 in /Users/sulaihasubi/Library/Python/3.9/lib/python/site-packages (from jupyterlab) (6.29.5)\n",
      "Requirement already satisfied: jupyter-core in /Users/sulaihasubi/Library/Python/3.9/lib/python/site-packages (from jupyterlab) (5.7.2)\n",
      "Requirement already satisfied: httpx>=0.25.0 in /Users/sulaihasubi/Library/Python/3.9/lib/python/site-packages (from jupyterlab) (0.27.0)\n",
      "Requirement already satisfied: async-lru>=1.0.0 in /Users/sulaihasubi/Library/Python/3.9/lib/python/site-packages (from jupyterlab) (2.0.4)\n",
      "Requirement already satisfied: setuptools>=40.1.0 in /Library/Developer/CommandLineTools/Library/Frameworks/Python3.framework/Versions/3.9/lib/python3.9/site-packages (from jupyterlab) (58.0.4)\n",
      "Requirement already satisfied: traitlets in /Users/sulaihasubi/Library/Python/3.9/lib/python/site-packages (from jupyterlab) (5.14.3)\n",
      "Requirement already satisfied: et-xmlfile in /Users/sulaihasubi/Library/Python/3.9/lib/python/site-packages (from openpyxl) (1.1.0)\n",
      "Requirement already satisfied: ydata-profiling in /Users/sulaihasubi/Library/Python/3.9/lib/python/site-packages (from pandas-profiling) (4.9.0)\n",
      "Requirement already satisfied: typing-extensions>=4.0.0 in /Users/sulaihasubi/Library/Python/3.9/lib/python/site-packages (from async-lru>=1.0.0->jupyterlab) (4.12.2)\n",
      "Requirement already satisfied: anyio in /Users/sulaihasubi/Library/Python/3.9/lib/python/site-packages (from httpx>=0.25.0->jupyterlab) (4.4.0)\n",
      "Requirement already satisfied: httpcore==1.* in /Users/sulaihasubi/Library/Python/3.9/lib/python/site-packages (from httpx>=0.25.0->jupyterlab) (1.0.5)\n",
      "Requirement already satisfied: idna in /Users/sulaihasubi/Library/Python/3.9/lib/python/site-packages (from httpx>=0.25.0->jupyterlab) (3.8)\n",
      "Requirement already satisfied: certifi in /Users/sulaihasubi/Library/Python/3.9/lib/python/site-packages (from httpx>=0.25.0->jupyterlab) (2024.7.4)\n",
      "Requirement already satisfied: sniffio in /Users/sulaihasubi/Library/Python/3.9/lib/python/site-packages (from httpx>=0.25.0->jupyterlab) (1.3.1)\n",
      "Requirement already satisfied: h11<0.15,>=0.13 in /Users/sulaihasubi/Library/Python/3.9/lib/python/site-packages (from httpcore==1.*->httpx>=0.25.0->jupyterlab) (0.14.0)\n",
      "Requirement already satisfied: zipp>=0.5 in /Users/sulaihasubi/Library/Python/3.9/lib/python/site-packages (from importlib-metadata>=4.8.3->jupyterlab) (3.20.0)\n",
      "Requirement already satisfied: nest-asyncio in /Users/sulaihasubi/Library/Python/3.9/lib/python/site-packages (from ipykernel>=6.5.0->jupyterlab) (1.6.0)\n",
      "Requirement already satisfied: appnope in /Users/sulaihasubi/Library/Python/3.9/lib/python/site-packages (from ipykernel>=6.5.0->jupyterlab) (0.1.4)\n",
      "Requirement already satisfied: pyzmq>=24 in /Users/sulaihasubi/Library/Python/3.9/lib/python/site-packages (from ipykernel>=6.5.0->jupyterlab) (26.2.0)\n",
      "Requirement already satisfied: debugpy>=1.6.5 in /Users/sulaihasubi/Library/Python/3.9/lib/python/site-packages (from ipykernel>=6.5.0->jupyterlab) (1.8.5)\n",
      "Requirement already satisfied: comm>=0.1.1 in /Users/sulaihasubi/Library/Python/3.9/lib/python/site-packages (from ipykernel>=6.5.0->jupyterlab) (0.2.2)\n",
      "Requirement already satisfied: matplotlib-inline>=0.1 in /Users/sulaihasubi/Library/Python/3.9/lib/python/site-packages (from ipykernel>=6.5.0->jupyterlab) (0.1.7)\n",
      "Requirement already satisfied: jupyter-client>=6.1.12 in /Users/sulaihasubi/Library/Python/3.9/lib/python/site-packages (from ipykernel>=6.5.0->jupyterlab) (8.6.2)\n",
      "Requirement already satisfied: psutil in /Users/sulaihasubi/Library/Python/3.9/lib/python/site-packages (from ipykernel>=6.5.0->jupyterlab) (6.0.0)\n",
      "Requirement already satisfied: ipython>=7.23.1 in /Users/sulaihasubi/Library/Python/3.9/lib/python/site-packages (from ipykernel>=6.5.0->jupyterlab) (8.18.1)\n",
      "Requirement already satisfied: pygments>=2.4.0 in /Users/sulaihasubi/Library/Python/3.9/lib/python/site-packages (from ipython>=7.23.1->ipykernel>=6.5.0->jupyterlab) (2.18.0)\n",
      "Requirement already satisfied: pexpect>4.3 in /Users/sulaihasubi/Library/Python/3.9/lib/python/site-packages (from ipython>=7.23.1->ipykernel>=6.5.0->jupyterlab) (4.9.0)\n",
      "Requirement already satisfied: stack-data in /Users/sulaihasubi/Library/Python/3.9/lib/python/site-packages (from ipython>=7.23.1->ipykernel>=6.5.0->jupyterlab) (0.6.3)\n",
      "Requirement already satisfied: jedi>=0.16 in /Users/sulaihasubi/Library/Python/3.9/lib/python/site-packages (from ipython>=7.23.1->ipykernel>=6.5.0->jupyterlab) (0.19.1)\n",
      "Requirement already satisfied: exceptiongroup in /Users/sulaihasubi/Library/Python/3.9/lib/python/site-packages (from ipython>=7.23.1->ipykernel>=6.5.0->jupyterlab) (1.2.2)\n",
      "Requirement already satisfied: prompt-toolkit<3.1.0,>=3.0.41 in /Users/sulaihasubi/Library/Python/3.9/lib/python/site-packages (from ipython>=7.23.1->ipykernel>=6.5.0->jupyterlab) (3.0.47)\n",
      "Requirement already satisfied: decorator in /Users/sulaihasubi/Library/Python/3.9/lib/python/site-packages (from ipython>=7.23.1->ipykernel>=6.5.0->jupyterlab) (5.1.1)\n",
      "Requirement already satisfied: parso<0.9.0,>=0.8.3 in /Users/sulaihasubi/Library/Python/3.9/lib/python/site-packages (from jedi>=0.16->ipython>=7.23.1->ipykernel>=6.5.0->jupyterlab) (0.8.4)\n",
      "Requirement already satisfied: MarkupSafe>=2.0 in /Users/sulaihasubi/Library/Python/3.9/lib/python/site-packages (from jinja2>=3.0.3->jupyterlab) (2.1.5)\n",
      "Requirement already satisfied: platformdirs>=2.5 in /Users/sulaihasubi/Library/Python/3.9/lib/python/site-packages (from jupyter-core->jupyterlab) (4.2.2)\n",
      "Requirement already satisfied: jupyter-events>=0.9.0 in /Users/sulaihasubi/Library/Python/3.9/lib/python/site-packages (from jupyter-server<3,>=2.4.0->notebook) (0.10.0)\n",
      "Requirement already satisfied: nbconvert>=6.4.4 in /Users/sulaihasubi/Library/Python/3.9/lib/python/site-packages (from jupyter-server<3,>=2.4.0->notebook) (7.16.4)\n",
      "Requirement already satisfied: overrides>=5.0 in /Users/sulaihasubi/Library/Python/3.9/lib/python/site-packages (from jupyter-server<3,>=2.4.0->notebook) (7.7.0)\n",
      "Requirement already satisfied: terminado>=0.8.3 in /Users/sulaihasubi/Library/Python/3.9/lib/python/site-packages (from jupyter-server<3,>=2.4.0->notebook) (0.18.1)\n",
      "Requirement already satisfied: websocket-client>=1.7 in /Users/sulaihasubi/Library/Python/3.9/lib/python/site-packages (from jupyter-server<3,>=2.4.0->notebook) (1.8.0)\n",
      "Requirement already satisfied: prometheus-client>=0.9 in /Users/sulaihasubi/Library/Python/3.9/lib/python/site-packages (from jupyter-server<3,>=2.4.0->notebook) (0.20.0)\n",
      "Requirement already satisfied: argon2-cffi>=21.1 in /Users/sulaihasubi/Library/Python/3.9/lib/python/site-packages (from jupyter-server<3,>=2.4.0->notebook) (23.1.0)\n",
      "Requirement already satisfied: nbformat>=5.3.0 in /Users/sulaihasubi/Library/Python/3.9/lib/python/site-packages (from jupyter-server<3,>=2.4.0->notebook) (5.10.4)\n",
      "Requirement already satisfied: jupyter-server-terminals>=0.4.4 in /Users/sulaihasubi/Library/Python/3.9/lib/python/site-packages (from jupyter-server<3,>=2.4.0->notebook) (0.5.3)\n",
      "Requirement already satisfied: send2trash>=1.8.2 in /Users/sulaihasubi/Library/Python/3.9/lib/python/site-packages (from jupyter-server<3,>=2.4.0->notebook) (1.8.3)\n",
      "Requirement already satisfied: argon2-cffi-bindings in /Users/sulaihasubi/Library/Python/3.9/lib/python/site-packages (from argon2-cffi>=21.1->jupyter-server<3,>=2.4.0->notebook) (21.2.0)\n",
      "Requirement already satisfied: pyyaml>=5.3 in /Users/sulaihasubi/Library/Python/3.9/lib/python/site-packages (from jupyter-events>=0.9.0->jupyter-server<3,>=2.4.0->notebook) (6.0.2)\n",
      "Requirement already satisfied: jsonschema[format-nongpl]>=4.18.0 in /Users/sulaihasubi/Library/Python/3.9/lib/python/site-packages (from jupyter-events>=0.9.0->jupyter-server<3,>=2.4.0->notebook) (4.23.0)\n",
      "Requirement already satisfied: referencing in /Users/sulaihasubi/Library/Python/3.9/lib/python/site-packages (from jupyter-events>=0.9.0->jupyter-server<3,>=2.4.0->notebook) (0.35.1)\n",
      "Requirement already satisfied: rfc3339-validator in /Users/sulaihasubi/Library/Python/3.9/lib/python/site-packages (from jupyter-events>=0.9.0->jupyter-server<3,>=2.4.0->notebook) (0.1.4)\n",
      "Requirement already satisfied: rfc3986-validator>=0.1.1 in /Users/sulaihasubi/Library/Python/3.9/lib/python/site-packages (from jupyter-events>=0.9.0->jupyter-server<3,>=2.4.0->notebook) (0.1.1)\n",
      "Requirement already satisfied: python-json-logger>=2.0.4 in /Users/sulaihasubi/Library/Python/3.9/lib/python/site-packages (from jupyter-events>=0.9.0->jupyter-server<3,>=2.4.0->notebook) (2.0.7)\n",
      "Requirement already satisfied: attrs>=22.2.0 in /Users/sulaihasubi/Library/Python/3.9/lib/python/site-packages (from jsonschema[format-nongpl]>=4.18.0->jupyter-events>=0.9.0->jupyter-server<3,>=2.4.0->notebook) (24.2.0)\n",
      "Requirement already satisfied: jsonschema-specifications>=2023.03.6 in /Users/sulaihasubi/Library/Python/3.9/lib/python/site-packages (from jsonschema[format-nongpl]>=4.18.0->jupyter-events>=0.9.0->jupyter-server<3,>=2.4.0->notebook) (2023.12.1)\n",
      "Requirement already satisfied: rpds-py>=0.7.1 in /Users/sulaihasubi/Library/Python/3.9/lib/python/site-packages (from jsonschema[format-nongpl]>=4.18.0->jupyter-events>=0.9.0->jupyter-server<3,>=2.4.0->notebook) (0.20.0)\n",
      "Requirement already satisfied: fqdn in /Users/sulaihasubi/Library/Python/3.9/lib/python/site-packages (from jsonschema[format-nongpl]>=4.18.0->jupyter-events>=0.9.0->jupyter-server<3,>=2.4.0->notebook) (1.5.1)\n",
      "Requirement already satisfied: isoduration in /Users/sulaihasubi/Library/Python/3.9/lib/python/site-packages (from jsonschema[format-nongpl]>=4.18.0->jupyter-events>=0.9.0->jupyter-server<3,>=2.4.0->notebook) (20.11.0)\n",
      "Requirement already satisfied: jsonpointer>1.13 in /Users/sulaihasubi/Library/Python/3.9/lib/python/site-packages (from jsonschema[format-nongpl]>=4.18.0->jupyter-events>=0.9.0->jupyter-server<3,>=2.4.0->notebook) (3.0.0)\n",
      "Requirement already satisfied: uri-template in /Users/sulaihasubi/Library/Python/3.9/lib/python/site-packages (from jsonschema[format-nongpl]>=4.18.0->jupyter-events>=0.9.0->jupyter-server<3,>=2.4.0->notebook) (1.3.0)\n",
      "Requirement already satisfied: webcolors>=24.6.0 in /Users/sulaihasubi/Library/Python/3.9/lib/python/site-packages (from jsonschema[format-nongpl]>=4.18.0->jupyter-events>=0.9.0->jupyter-server<3,>=2.4.0->notebook) (24.8.0)\n",
      "Requirement already satisfied: requests>=2.31 in /Users/sulaihasubi/Library/Python/3.9/lib/python/site-packages (from jupyterlab-server<3,>=2.27.1->notebook) (2.32.3)\n",
      "Requirement already satisfied: json5>=0.9.0 in /Users/sulaihasubi/Library/Python/3.9/lib/python/site-packages (from jupyterlab-server<3,>=2.27.1->notebook) (0.9.25)\n",
      "Requirement already satisfied: babel>=2.10 in /Users/sulaihasubi/Library/Python/3.9/lib/python/site-packages (from jupyterlab-server<3,>=2.27.1->notebook) (2.16.0)\n",
      "Requirement already satisfied: jupyterlab-pygments in /Users/sulaihasubi/Library/Python/3.9/lib/python/site-packages (from nbconvert>=6.4.4->jupyter-server<3,>=2.4.0->notebook) (0.3.0)\n",
      "Requirement already satisfied: tinycss2 in /Users/sulaihasubi/Library/Python/3.9/lib/python/site-packages (from nbconvert>=6.4.4->jupyter-server<3,>=2.4.0->notebook) (1.3.0)\n",
      "Requirement already satisfied: bleach!=5.0.0 in /Users/sulaihasubi/Library/Python/3.9/lib/python/site-packages (from nbconvert>=6.4.4->jupyter-server<3,>=2.4.0->notebook) (6.1.0)\n",
      "Requirement already satisfied: beautifulsoup4 in /Users/sulaihasubi/Library/Python/3.9/lib/python/site-packages (from nbconvert>=6.4.4->jupyter-server<3,>=2.4.0->notebook) (4.12.3)\n",
      "Requirement already satisfied: nbclient>=0.5.0 in /Users/sulaihasubi/Library/Python/3.9/lib/python/site-packages (from nbconvert>=6.4.4->jupyter-server<3,>=2.4.0->notebook) (0.10.0)\n",
      "Requirement already satisfied: pandocfilters>=1.4.1 in /Users/sulaihasubi/Library/Python/3.9/lib/python/site-packages (from nbconvert>=6.4.4->jupyter-server<3,>=2.4.0->notebook) (1.5.1)\n",
      "Requirement already satisfied: mistune<4,>=2.0.3 in /Users/sulaihasubi/Library/Python/3.9/lib/python/site-packages (from nbconvert>=6.4.4->jupyter-server<3,>=2.4.0->notebook) (3.0.2)\n",
      "Requirement already satisfied: defusedxml in /Users/sulaihasubi/Library/Python/3.9/lib/python/site-packages (from nbconvert>=6.4.4->jupyter-server<3,>=2.4.0->notebook) (0.7.1)\n",
      "Requirement already satisfied: webencodings in /Users/sulaihasubi/Library/Python/3.9/lib/python/site-packages (from bleach!=5.0.0->nbconvert>=6.4.4->jupyter-server<3,>=2.4.0->notebook) (0.5.1)\n",
      "Requirement already satisfied: six>=1.9.0 in /Library/Developer/CommandLineTools/Library/Frameworks/Python3.framework/Versions/3.9/lib/python3.9/site-packages (from bleach!=5.0.0->nbconvert>=6.4.4->jupyter-server<3,>=2.4.0->notebook) (1.15.0)\n",
      "Requirement already satisfied: fastjsonschema>=2.15 in /Users/sulaihasubi/Library/Python/3.9/lib/python/site-packages (from nbformat>=5.3.0->jupyter-server<3,>=2.4.0->notebook) (2.20.0)\n",
      "Requirement already satisfied: ptyprocess>=0.5 in /Users/sulaihasubi/Library/Python/3.9/lib/python/site-packages (from pexpect>4.3->ipython>=7.23.1->ipykernel>=6.5.0->jupyterlab) (0.7.0)\n",
      "Requirement already satisfied: wcwidth in /Users/sulaihasubi/Library/Python/3.9/lib/python/site-packages (from prompt-toolkit<3.1.0,>=3.0.41->ipython>=7.23.1->ipykernel>=6.5.0->jupyterlab) (0.2.13)\n",
      "Requirement already satisfied: urllib3<3,>=1.21.1 in /Users/sulaihasubi/Library/Python/3.9/lib/python/site-packages (from requests>=2.31->jupyterlab-server<3,>=2.27.1->notebook) (2.2.2)\n",
      "Requirement already satisfied: charset-normalizer<4,>=2 in /Users/sulaihasubi/Library/Python/3.9/lib/python/site-packages (from requests>=2.31->jupyterlab-server<3,>=2.27.1->notebook) (3.3.2)\n",
      "Requirement already satisfied: cffi>=1.0.1 in /Users/sulaihasubi/Library/Python/3.9/lib/python/site-packages (from argon2-cffi-bindings->argon2-cffi>=21.1->jupyter-server<3,>=2.4.0->notebook) (1.17.0)\n",
      "Requirement already satisfied: pycparser in /Users/sulaihasubi/Library/Python/3.9/lib/python/site-packages (from cffi>=1.0.1->argon2-cffi-bindings->argon2-cffi>=21.1->jupyter-server<3,>=2.4.0->notebook) (2.22)\n",
      "Requirement already satisfied: soupsieve>1.2 in /Users/sulaihasubi/Library/Python/3.9/lib/python/site-packages (from beautifulsoup4->nbconvert>=6.4.4->jupyter-server<3,>=2.4.0->notebook) (2.6)\n",
      "Requirement already satisfied: arrow>=0.15.0 in /Users/sulaihasubi/Library/Python/3.9/lib/python/site-packages (from isoduration->jsonschema[format-nongpl]>=4.18.0->jupyter-events>=0.9.0->jupyter-server<3,>=2.4.0->notebook) (1.3.0)\n",
      "Requirement already satisfied: types-python-dateutil>=2.8.10 in /Users/sulaihasubi/Library/Python/3.9/lib/python/site-packages (from arrow>=0.15.0->isoduration->jsonschema[format-nongpl]>=4.18.0->jupyter-events>=0.9.0->jupyter-server<3,>=2.4.0->notebook) (2.9.0.20240821)\n",
      "Requirement already satisfied: executing>=1.2.0 in /Users/sulaihasubi/Library/Python/3.9/lib/python/site-packages (from stack-data->ipython>=7.23.1->ipykernel>=6.5.0->jupyterlab) (2.0.1)\n",
      "Requirement already satisfied: pure-eval in /Users/sulaihasubi/Library/Python/3.9/lib/python/site-packages (from stack-data->ipython>=7.23.1->ipykernel>=6.5.0->jupyterlab) (0.2.3)\n",
      "Requirement already satisfied: asttokens>=2.1.0 in /Users/sulaihasubi/Library/Python/3.9/lib/python/site-packages (from stack-data->ipython>=7.23.1->ipykernel>=6.5.0->jupyterlab) (2.4.1)\n",
      "Requirement already satisfied: phik<0.13,>=0.11.1 in /Users/sulaihasubi/Library/Python/3.9/lib/python/site-packages (from ydata-profiling->pandas-profiling) (0.12.4)\n",
      "Requirement already satisfied: dacite>=1.8 in /Users/sulaihasubi/Library/Python/3.9/lib/python/site-packages (from ydata-profiling->pandas-profiling) (1.8.1)\n",
      "Requirement already satisfied: visions[type_image_path]<0.7.7,>=0.7.5 in /Users/sulaihasubi/Library/Python/3.9/lib/python/site-packages (from ydata-profiling->pandas-profiling) (0.7.6)\n",
      "Requirement already satisfied: statsmodels<1,>=0.13.2 in /Users/sulaihasubi/Library/Python/3.9/lib/python/site-packages (from ydata-profiling->pandas-profiling) (0.14.2)\n",
      "Requirement already satisfied: multimethod<2,>=1.4 in /Users/sulaihasubi/Library/Python/3.9/lib/python/site-packages (from ydata-profiling->pandas-profiling) (1.12)\n",
      "Requirement already satisfied: wordcloud>=1.9.1 in /Users/sulaihasubi/Library/Python/3.9/lib/python/site-packages (from ydata-profiling->pandas-profiling) (1.9.3)\n",
      "Requirement already satisfied: typeguard<5,>=3 in /Users/sulaihasubi/Library/Python/3.9/lib/python/site-packages (from ydata-profiling->pandas-profiling) (4.3.0)\n",
      "Requirement already satisfied: tqdm<5,>=4.48.2 in /Users/sulaihasubi/Library/Python/3.9/lib/python/site-packages (from ydata-profiling->pandas-profiling) (4.66.5)\n",
      "Requirement already satisfied: pydantic>=2 in /Users/sulaihasubi/Library/Python/3.9/lib/python/site-packages (from ydata-profiling->pandas-profiling) (2.8.2)\n",
      "Requirement already satisfied: imagehash==4.3.1 in /Users/sulaihasubi/Library/Python/3.9/lib/python/site-packages (from ydata-profiling->pandas-profiling) (4.3.1)\n",
      "Requirement already satisfied: htmlmin==0.1.12 in /Users/sulaihasubi/Library/Python/3.9/lib/python/site-packages (from ydata-profiling->pandas-profiling) (0.1.12)\n",
      "Requirement already satisfied: numba<1,>=0.56.0 in /Users/sulaihasubi/Library/Python/3.9/lib/python/site-packages (from ydata-profiling->pandas-profiling) (0.60.0)\n",
      "Requirement already satisfied: PyWavelets in /Users/sulaihasubi/Library/Python/3.9/lib/python/site-packages (from imagehash==4.3.1->ydata-profiling->pandas-profiling) (1.6.0)\n",
      "Requirement already satisfied: llvmlite<0.44,>=0.43.0dev0 in /Users/sulaihasubi/Library/Python/3.9/lib/python/site-packages (from numba<1,>=0.56.0->ydata-profiling->pandas-profiling) (0.43.0)\n",
      "Requirement already satisfied: pydantic-core==2.20.1 in /Users/sulaihasubi/Library/Python/3.9/lib/python/site-packages (from pydantic>=2->ydata-profiling->pandas-profiling) (2.20.1)\n",
      "Requirement already satisfied: annotated-types>=0.4.0 in /Users/sulaihasubi/Library/Python/3.9/lib/python/site-packages (from pydantic>=2->ydata-profiling->pandas-profiling) (0.7.0)\n",
      "Requirement already satisfied: patsy>=0.5.6 in /Users/sulaihasubi/Library/Python/3.9/lib/python/site-packages (from statsmodels<1,>=0.13.2->ydata-profiling->pandas-profiling) (0.5.6)\n",
      "Requirement already satisfied: networkx>=2.4 in /Users/sulaihasubi/Library/Python/3.9/lib/python/site-packages (from visions[type_image_path]<0.7.7,>=0.7.5->ydata-profiling->pandas-profiling) (3.2.1)\n",
      "\u001b[33mWARNING: You are using pip version 21.2.4; however, version 24.2 is available.\n",
      "You should consider upgrading via the '/Library/Developer/CommandLineTools/usr/bin/python3 -m pip install --upgrade pip' command.\u001b[0m\n",
      "Note: you may need to restart the kernel to use updated packages.\n"
     ]
    }
   ],
   "source": [
    "pip install pandas numpy matplotlib seaborn scikit-learn scipy plotly notebook jupyterlab openpyxl yellowbrick pandas-profiling"
   ]
  },
  {
   "cell_type": "markdown",
   "metadata": {},
   "source": [
    "### Step 1: Load and Understanding the Data"
   ]
  },
  {
   "cell_type": "code",
   "execution_count": 2,
   "metadata": {},
   "outputs": [
    {
     "name": "stdout",
     "output_type": "stream",
     "text": [
      "Data of user behavior during their visits to the e-commerce platform (Session):\n"
     ]
    },
    {
     "data": {
      "text/html": [
       "<div>\n",
       "<style scoped>\n",
       "    .dataframe tbody tr th:only-of-type {\n",
       "        vertical-align: middle;\n",
       "    }\n",
       "\n",
       "    .dataframe tbody tr th {\n",
       "        vertical-align: top;\n",
       "    }\n",
       "\n",
       "    .dataframe thead th {\n",
       "        text-align: right;\n",
       "    }\n",
       "</style>\n",
       "<table border=\"1\" class=\"dataframe\">\n",
       "  <thead>\n",
       "    <tr style=\"text-align: right;\">\n",
       "      <th></th>\n",
       "      <th>session_id</th>\n",
       "      <th>operating_system</th>\n",
       "      <th>session_date</th>\n",
       "      <th>event_timestamp</th>\n",
       "      <th>event_transaction_id</th>\n",
       "      <th>country_name</th>\n",
       "      <th>final_user_id</th>\n",
       "      <th>guest_uuid_id</th>\n",
       "      <th>device_id</th>\n",
       "      <th>anonymous_id</th>\n",
       "      <th>first_user_type</th>\n",
       "      <th>first_registered_type</th>\n",
       "      <th>last_user_type</th>\n",
       "      <th>last_registered_type</th>\n",
       "      <th>device_model</th>\n",
       "      <th>event_name</th>\n",
       "      <th>page_source</th>\n",
       "      <th>order_id</th>\n",
       "      <th>total_order_amount</th>\n",
       "    </tr>\n",
       "  </thead>\n",
       "  <tbody>\n",
       "    <tr>\n",
       "      <th>0</th>\n",
       "      <td>04a5e8fbb098e1460016100e7953dd99</td>\n",
       "      <td>ios</td>\n",
       "      <td>2023-10-25</td>\n",
       "      <td>2023-10-25 23:23:05.816000</td>\n",
       "      <td>4E355C5A-4984-4AA3-B6B2-B3CD82E68748</td>\n",
       "      <td>Saudi Arabia</td>\n",
       "      <td>d9815b0feaee15da866f84fb88e04bd1</td>\n",
       "      <td>NaN</td>\n",
       "      <td>50E0F0E4-346C-43E9-A353-71FC61D80D40</td>\n",
       "      <td>F415DEB1-09CE-405F-8CA4-2B714E126B06</td>\n",
       "      <td>customer</td>\n",
       "      <td>existing customer</td>\n",
       "      <td>customer</td>\n",
       "      <td>existing customer</td>\n",
       "      <td>iPhone14,2</td>\n",
       "      <td>application backgrounded</td>\n",
       "      <td>NaN</td>\n",
       "      <td>NaN</td>\n",
       "      <td>NaN</td>\n",
       "    </tr>\n",
       "    <tr>\n",
       "      <th>1</th>\n",
       "      <td>04a5e8fbb098e1460016100e7953dd99</td>\n",
       "      <td>ios</td>\n",
       "      <td>2023-10-25</td>\n",
       "      <td>2023-10-25 23:23:14.307000</td>\n",
       "      <td>ADD8356D-0318-4952-AACB-CB79505701BE</td>\n",
       "      <td>Saudi Arabia</td>\n",
       "      <td>d9815b0feaee15da866f84fb88e04bd1</td>\n",
       "      <td>NaN</td>\n",
       "      <td>50E0F0E4-346C-43E9-A353-71FC61D80D40</td>\n",
       "      <td>F415DEB1-09CE-405F-8CA4-2B714E126B06</td>\n",
       "      <td>customer</td>\n",
       "      <td>existing customer</td>\n",
       "      <td>customer</td>\n",
       "      <td>existing customer</td>\n",
       "      <td>iPhone14,2</td>\n",
       "      <td>application backgrounded</td>\n",
       "      <td>NaN</td>\n",
       "      <td>NaN</td>\n",
       "      <td>NaN</td>\n",
       "    </tr>\n",
       "    <tr>\n",
       "      <th>2</th>\n",
       "      <td>04a5e8fbb098e1460016100e7953dd99</td>\n",
       "      <td>ios</td>\n",
       "      <td>2023-10-25</td>\n",
       "      <td>2023-10-25 23:23:22.942000</td>\n",
       "      <td>13A19781-4FA8-493E-8E02-D8BE1D2EAC2A</td>\n",
       "      <td>Saudi Arabia</td>\n",
       "      <td>d9815b0feaee15da866f84fb88e04bd1</td>\n",
       "      <td>NaN</td>\n",
       "      <td>50E0F0E4-346C-43E9-A353-71FC61D80D40</td>\n",
       "      <td>F415DEB1-09CE-405F-8CA4-2B714E126B06</td>\n",
       "      <td>customer</td>\n",
       "      <td>existing customer</td>\n",
       "      <td>customer</td>\n",
       "      <td>existing customer</td>\n",
       "      <td>iPhone14,2</td>\n",
       "      <td>application backgrounded</td>\n",
       "      <td>NaN</td>\n",
       "      <td>NaN</td>\n",
       "      <td>NaN</td>\n",
       "    </tr>\n",
       "    <tr>\n",
       "      <th>3</th>\n",
       "      <td>04a5e8fbb098e1460016100e7953dd99</td>\n",
       "      <td>ios</td>\n",
       "      <td>2023-10-25</td>\n",
       "      <td>2023-10-25 23:24:38.151000</td>\n",
       "      <td>A6156D2C-7539-4C2D-87F7-26F668CB5D93</td>\n",
       "      <td>Saudi Arabia</td>\n",
       "      <td>d9815b0feaee15da866f84fb88e04bd1</td>\n",
       "      <td>NaN</td>\n",
       "      <td>50E0F0E4-346C-43E9-A353-71FC61D80D40</td>\n",
       "      <td>F415DEB1-09CE-405F-8CA4-2B714E126B06</td>\n",
       "      <td>customer</td>\n",
       "      <td>existing customer</td>\n",
       "      <td>customer</td>\n",
       "      <td>existing customer</td>\n",
       "      <td>iPhone14,2</td>\n",
       "      <td>application backgrounded</td>\n",
       "      <td>NaN</td>\n",
       "      <td>NaN</td>\n",
       "      <td>NaN</td>\n",
       "    </tr>\n",
       "    <tr>\n",
       "      <th>4</th>\n",
       "      <td>04a5e8fbb098e1460016100e7953dd99</td>\n",
       "      <td>ios</td>\n",
       "      <td>2023-10-25</td>\n",
       "      <td>2023-10-25 23:32:15.222000</td>\n",
       "      <td>33976D63-8987-4B56-A393-A28041A3DC2E</td>\n",
       "      <td>Saudi Arabia</td>\n",
       "      <td>d9815b0feaee15da866f84fb88e04bd1</td>\n",
       "      <td>NaN</td>\n",
       "      <td>50E0F0E4-346C-43E9-A353-71FC61D80D40</td>\n",
       "      <td>F415DEB1-09CE-405F-8CA4-2B714E126B06</td>\n",
       "      <td>customer</td>\n",
       "      <td>existing customer</td>\n",
       "      <td>customer</td>\n",
       "      <td>existing customer</td>\n",
       "      <td>iPhone14,2</td>\n",
       "      <td>application backgrounded</td>\n",
       "      <td>NaN</td>\n",
       "      <td>NaN</td>\n",
       "      <td>NaN</td>\n",
       "    </tr>\n",
       "  </tbody>\n",
       "</table>\n",
       "</div>"
      ],
      "text/plain": [
       "                         session_id operating_system session_date  \\\n",
       "0  04a5e8fbb098e1460016100e7953dd99              ios   2023-10-25   \n",
       "1  04a5e8fbb098e1460016100e7953dd99              ios   2023-10-25   \n",
       "2  04a5e8fbb098e1460016100e7953dd99              ios   2023-10-25   \n",
       "3  04a5e8fbb098e1460016100e7953dd99              ios   2023-10-25   \n",
       "4  04a5e8fbb098e1460016100e7953dd99              ios   2023-10-25   \n",
       "\n",
       "              event_timestamp                  event_transaction_id  \\\n",
       "0  2023-10-25 23:23:05.816000  4E355C5A-4984-4AA3-B6B2-B3CD82E68748   \n",
       "1  2023-10-25 23:23:14.307000  ADD8356D-0318-4952-AACB-CB79505701BE   \n",
       "2  2023-10-25 23:23:22.942000  13A19781-4FA8-493E-8E02-D8BE1D2EAC2A   \n",
       "3  2023-10-25 23:24:38.151000  A6156D2C-7539-4C2D-87F7-26F668CB5D93   \n",
       "4  2023-10-25 23:32:15.222000  33976D63-8987-4B56-A393-A28041A3DC2E   \n",
       "\n",
       "   country_name                     final_user_id guest_uuid_id  \\\n",
       "0  Saudi Arabia  d9815b0feaee15da866f84fb88e04bd1           NaN   \n",
       "1  Saudi Arabia  d9815b0feaee15da866f84fb88e04bd1           NaN   \n",
       "2  Saudi Arabia  d9815b0feaee15da866f84fb88e04bd1           NaN   \n",
       "3  Saudi Arabia  d9815b0feaee15da866f84fb88e04bd1           NaN   \n",
       "4  Saudi Arabia  d9815b0feaee15da866f84fb88e04bd1           NaN   \n",
       "\n",
       "                              device_id                          anonymous_id  \\\n",
       "0  50E0F0E4-346C-43E9-A353-71FC61D80D40  F415DEB1-09CE-405F-8CA4-2B714E126B06   \n",
       "1  50E0F0E4-346C-43E9-A353-71FC61D80D40  F415DEB1-09CE-405F-8CA4-2B714E126B06   \n",
       "2  50E0F0E4-346C-43E9-A353-71FC61D80D40  F415DEB1-09CE-405F-8CA4-2B714E126B06   \n",
       "3  50E0F0E4-346C-43E9-A353-71FC61D80D40  F415DEB1-09CE-405F-8CA4-2B714E126B06   \n",
       "4  50E0F0E4-346C-43E9-A353-71FC61D80D40  F415DEB1-09CE-405F-8CA4-2B714E126B06   \n",
       "\n",
       "  first_user_type first_registered_type last_user_type last_registered_type  \\\n",
       "0        customer     existing customer       customer    existing customer   \n",
       "1        customer     existing customer       customer    existing customer   \n",
       "2        customer     existing customer       customer    existing customer   \n",
       "3        customer     existing customer       customer    existing customer   \n",
       "4        customer     existing customer       customer    existing customer   \n",
       "\n",
       "  device_model                event_name page_source  order_id  \\\n",
       "0   iPhone14,2  application backgrounded         NaN       NaN   \n",
       "1   iPhone14,2  application backgrounded         NaN       NaN   \n",
       "2   iPhone14,2  application backgrounded         NaN       NaN   \n",
       "3   iPhone14,2  application backgrounded         NaN       NaN   \n",
       "4   iPhone14,2  application backgrounded         NaN       NaN   \n",
       "\n",
       "   total_order_amount  \n",
       "0                 NaN  \n",
       "1                 NaN  \n",
       "2                 NaN  \n",
       "3                 NaN  \n",
       "4                 NaN  "
      ]
     },
     "metadata": {},
     "output_type": "display_data"
    },
    {
     "name": "stdout",
     "output_type": "stream",
     "text": [
      "\n",
      " Data of user demographic information and other attributes (Users):\n"
     ]
    },
    {
     "data": {
      "text/html": [
       "<div>\n",
       "<style scoped>\n",
       "    .dataframe tbody tr th:only-of-type {\n",
       "        vertical-align: middle;\n",
       "    }\n",
       "\n",
       "    .dataframe tbody tr th {\n",
       "        vertical-align: top;\n",
       "    }\n",
       "\n",
       "    .dataframe thead th {\n",
       "        text-align: right;\n",
       "    }\n",
       "</style>\n",
       "<table border=\"1\" class=\"dataframe\">\n",
       "  <thead>\n",
       "    <tr style=\"text-align: right;\">\n",
       "      <th></th>\n",
       "      <th>user_id</th>\n",
       "      <th>user_gender</th>\n",
       "      <th>country_name</th>\n",
       "      <th>loyalty_point_balance</th>\n",
       "      <th>first_order_date</th>\n",
       "      <th>last_order_date</th>\n",
       "    </tr>\n",
       "  </thead>\n",
       "  <tbody>\n",
       "    <tr>\n",
       "      <th>0</th>\n",
       "      <td>00768dbd47c1a935ee00010d590e5652</td>\n",
       "      <td>NaN</td>\n",
       "      <td>NaN</td>\n",
       "      <td>0</td>\n",
       "      <td>NaN</td>\n",
       "      <td>NaN</td>\n",
       "    </tr>\n",
       "    <tr>\n",
       "      <th>1</th>\n",
       "      <td>016b053632a6e852ad9f148dc1ca8e03</td>\n",
       "      <td>NaN</td>\n",
       "      <td>NaN</td>\n",
       "      <td>0</td>\n",
       "      <td>NaN</td>\n",
       "      <td>NaN</td>\n",
       "    </tr>\n",
       "    <tr>\n",
       "      <th>2</th>\n",
       "      <td>02ba753725c66619b28a76e314eacb11</td>\n",
       "      <td>male</td>\n",
       "      <td>Saudi Arabia</td>\n",
       "      <td>0</td>\n",
       "      <td>2023-08-01</td>\n",
       "      <td>2023-08-01</td>\n",
       "    </tr>\n",
       "    <tr>\n",
       "      <th>3</th>\n",
       "      <td>02dbec7f743eef5251c49278f7dd1b21</td>\n",
       "      <td>female</td>\n",
       "      <td>United Arab Emirates</td>\n",
       "      <td>0</td>\n",
       "      <td>2023-03-11</td>\n",
       "      <td>2023-03-11</td>\n",
       "    </tr>\n",
       "    <tr>\n",
       "      <th>4</th>\n",
       "      <td>034cb073b6a2796f20e07e2ce84ee3cf</td>\n",
       "      <td>female</td>\n",
       "      <td>Saudi Arabia</td>\n",
       "      <td>0</td>\n",
       "      <td>2023-07-25</td>\n",
       "      <td>2023-07-25</td>\n",
       "    </tr>\n",
       "  </tbody>\n",
       "</table>\n",
       "</div>"
      ],
      "text/plain": [
       "                            user_id user_gender          country_name  \\\n",
       "0  00768dbd47c1a935ee00010d590e5652         NaN                   NaN   \n",
       "1  016b053632a6e852ad9f148dc1ca8e03         NaN                   NaN   \n",
       "2  02ba753725c66619b28a76e314eacb11        male          Saudi Arabia   \n",
       "3  02dbec7f743eef5251c49278f7dd1b21      female  United Arab Emirates   \n",
       "4  034cb073b6a2796f20e07e2ce84ee3cf      female          Saudi Arabia   \n",
       "\n",
       "   loyalty_point_balance first_order_date last_order_date  \n",
       "0                      0              NaN             NaN  \n",
       "1                      0              NaN             NaN  \n",
       "2                      0       2023-08-01      2023-08-01  \n",
       "3                      0       2023-03-11      2023-03-11  \n",
       "4                      0       2023-07-25      2023-07-25  "
      ]
     },
     "metadata": {},
     "output_type": "display_data"
    },
    {
     "name": "stdout",
     "output_type": "stream",
     "text": [
      "\n",
      " Order data, including items purchased, total order value, and order completion status (Order):\n"
     ]
    },
    {
     "data": {
      "text/html": [
       "<div>\n",
       "<style scoped>\n",
       "    .dataframe tbody tr th:only-of-type {\n",
       "        vertical-align: middle;\n",
       "    }\n",
       "\n",
       "    .dataframe tbody tr th {\n",
       "        vertical-align: top;\n",
       "    }\n",
       "\n",
       "    .dataframe thead th {\n",
       "        text-align: right;\n",
       "    }\n",
       "</style>\n",
       "<table border=\"1\" class=\"dataframe\">\n",
       "  <thead>\n",
       "    <tr style=\"text-align: right;\">\n",
       "      <th></th>\n",
       "      <th>order_id</th>\n",
       "      <th>order_placed_date</th>\n",
       "      <th>user_id</th>\n",
       "      <th>order_status_name</th>\n",
       "      <th>order_type_name</th>\n",
       "      <th>order_type_group_name</th>\n",
       "      <th>order_channel_name</th>\n",
       "      <th>order_picked_date_utc</th>\n",
       "      <th>order_delivered_date_utc</th>\n",
       "      <th>delivery_country_name</th>\n",
       "      <th>grand_total_usd</th>\n",
       "    </tr>\n",
       "  </thead>\n",
       "  <tbody>\n",
       "    <tr>\n",
       "      <th>0</th>\n",
       "      <td>832492</td>\n",
       "      <td>2021-02-14</td>\n",
       "      <td>d37018d3c0387c178334e9f76d374421</td>\n",
       "      <td>Confirmed</td>\n",
       "      <td>Sales</td>\n",
       "      <td>online</td>\n",
       "      <td>Ios</td>\n",
       "      <td>NaN</td>\n",
       "      <td>2021-02-16 23:20:29.000000</td>\n",
       "      <td>Qatar</td>\n",
       "      <td>123.80</td>\n",
       "    </tr>\n",
       "    <tr>\n",
       "      <th>1</th>\n",
       "      <td>1088419</td>\n",
       "      <td>2021-04-11</td>\n",
       "      <td>34f270f09d45bc894ef5f14f0bddf547</td>\n",
       "      <td>Confirmed</td>\n",
       "      <td>Sales</td>\n",
       "      <td>online</td>\n",
       "      <td>Ios</td>\n",
       "      <td>NaN</td>\n",
       "      <td>2021-04-11 16:49:57.500000</td>\n",
       "      <td>Bahrain</td>\n",
       "      <td>84.87</td>\n",
       "    </tr>\n",
       "    <tr>\n",
       "      <th>2</th>\n",
       "      <td>871656</td>\n",
       "      <td>2021-02-24</td>\n",
       "      <td>b075b7503cf74f84cd374edc8bbced49</td>\n",
       "      <td>Confirmed</td>\n",
       "      <td>Sales</td>\n",
       "      <td>online</td>\n",
       "      <td>Ios</td>\n",
       "      <td>NaN</td>\n",
       "      <td>2021-02-25 20:14:56.013000</td>\n",
       "      <td>Qatar</td>\n",
       "      <td>101.79</td>\n",
       "    </tr>\n",
       "    <tr>\n",
       "      <th>3</th>\n",
       "      <td>851363</td>\n",
       "      <td>2021-02-18</td>\n",
       "      <td>b075b7503cf74f84cd374edc8bbced49</td>\n",
       "      <td>Confirmed</td>\n",
       "      <td>Sales</td>\n",
       "      <td>online</td>\n",
       "      <td>Ios</td>\n",
       "      <td>NaN</td>\n",
       "      <td>2021-02-18 11:29:30.000000</td>\n",
       "      <td>Qatar</td>\n",
       "      <td>101.79</td>\n",
       "    </tr>\n",
       "    <tr>\n",
       "      <th>4</th>\n",
       "      <td>852536</td>\n",
       "      <td>2021-02-18</td>\n",
       "      <td>ee3d6d258030acc04e1a5262768a4a93</td>\n",
       "      <td>Confirmed</td>\n",
       "      <td>Sales</td>\n",
       "      <td>online</td>\n",
       "      <td>Ios</td>\n",
       "      <td>NaN</td>\n",
       "      <td>2021-02-18 16:07:53.000000</td>\n",
       "      <td>Saudi Arabia</td>\n",
       "      <td>343.77</td>\n",
       "    </tr>\n",
       "  </tbody>\n",
       "</table>\n",
       "</div>"
      ],
      "text/plain": [
       "   order_id order_placed_date                           user_id  \\\n",
       "0    832492        2021-02-14  d37018d3c0387c178334e9f76d374421   \n",
       "1   1088419        2021-04-11  34f270f09d45bc894ef5f14f0bddf547   \n",
       "2    871656        2021-02-24  b075b7503cf74f84cd374edc8bbced49   \n",
       "3    851363        2021-02-18  b075b7503cf74f84cd374edc8bbced49   \n",
       "4    852536        2021-02-18  ee3d6d258030acc04e1a5262768a4a93   \n",
       "\n",
       "  order_status_name order_type_name order_type_group_name order_channel_name  \\\n",
       "0         Confirmed           Sales                online                Ios   \n",
       "1         Confirmed           Sales                online                Ios   \n",
       "2         Confirmed           Sales                online                Ios   \n",
       "3         Confirmed           Sales                online                Ios   \n",
       "4         Confirmed           Sales                online                Ios   \n",
       "\n",
       "  order_picked_date_utc    order_delivered_date_utc delivery_country_name  \\\n",
       "0                   NaN  2021-02-16 23:20:29.000000                 Qatar   \n",
       "1                   NaN  2021-04-11 16:49:57.500000               Bahrain   \n",
       "2                   NaN  2021-02-25 20:14:56.013000                 Qatar   \n",
       "3                   NaN  2021-02-18 11:29:30.000000                 Qatar   \n",
       "4                   NaN  2021-02-18 16:07:53.000000          Saudi Arabia   \n",
       "\n",
       "   grand_total_usd  \n",
       "0           123.80  \n",
       "1            84.87  \n",
       "2           101.79  \n",
       "3           101.79  \n",
       "4           343.77  "
      ]
     },
     "metadata": {},
     "output_type": "display_data"
    }
   ],
   "source": [
    "import pandas as pd\n",
    "\n",
    "# File paths\n",
    "session_file_path = '/Users/sulaihasubi/Documents/GitHub/Floward/Dataset/fct_session.csv'\n",
    "user_file_path = '/Users/sulaihasubi/Documents/GitHub/Floward/Dataset/dim_user.csv'\n",
    "order_file_path = '/Users/sulaihasubi/Documents/GitHub/Floward/Dataset/fct_order.csv'\n",
    "\n",
    "# Load the data into pandas dataframes\n",
    "session_df = pd.read_csv(session_file_path)\n",
    "user_df = pd.read_csv(user_file_path)\n",
    "order_df = pd.read_csv(order_file_path)\n",
    "\n",
    "# Display the first few rows of each dataframe to understand the structure\n",
    "print(\"Data of user behavior during their visits to the e-commerce platform (Session):\")\n",
    "display(session_df.head())\n",
    "\n",
    "print(\"\\n Data of user demographic information and other attributes (Users):\")\n",
    "display(user_df.head())\n",
    "\n",
    "print(\"\\n Order data, including items purchased, total order value, and order completion status (Order):\")\n",
    "display(order_df.head())\n"
   ]
  },
  {
   "cell_type": "code",
   "execution_count": 3,
   "metadata": {},
   "outputs": [
    {
     "name": "stdout",
     "output_type": "stream",
     "text": [
      "Session DataFrame Shape: (846682, 19)\n",
      "User DataFrame Shape: (9460, 6)\n",
      "Order DataFrame Shape: (59213, 11)\n"
     ]
    }
   ],
   "source": [
    "# Check shape of the dataframe\n",
    "print(f\"Session DataFrame Shape: {session_df.shape}\")\n",
    "print(f\"User DataFrame Shape: {user_df.shape}\")\n",
    "print(f\"Order DataFrame Shape: {order_df.shape}\")"
   ]
  },
  {
   "cell_type": "code",
   "execution_count": 4,
   "metadata": {},
   "outputs": [
    {
     "name": "stdout",
     "output_type": "stream",
     "text": [
      "session_id                object\n",
      "operating_system          object\n",
      "session_date              object\n",
      "event_timestamp           object\n",
      "event_transaction_id      object\n",
      "country_name              object\n",
      "final_user_id             object\n",
      "guest_uuid_id             object\n",
      "device_id                 object\n",
      "anonymous_id              object\n",
      "first_user_type           object\n",
      "first_registered_type     object\n",
      "last_user_type            object\n",
      "last_registered_type      object\n",
      "device_model              object\n",
      "event_name                object\n",
      "page_source               object\n",
      "order_id                 float64\n",
      "total_order_amount       float64\n",
      "dtype: object\n",
      "\n",
      "\n",
      "user_id                  object\n",
      "user_gender              object\n",
      "country_name             object\n",
      "loyalty_point_balance     int64\n",
      "first_order_date         object\n",
      "last_order_date          object\n",
      "dtype: object\n",
      "\n",
      "\n",
      "order_id                      int64\n",
      "order_placed_date            object\n",
      "user_id                      object\n",
      "order_status_name            object\n",
      "order_type_name              object\n",
      "order_type_group_name        object\n",
      "order_channel_name           object\n",
      "order_picked_date_utc        object\n",
      "order_delivered_date_utc     object\n",
      "delivery_country_name        object\n",
      "grand_total_usd             float64\n",
      "dtype: object\n"
     ]
    }
   ],
   "source": [
    "# Check coloumn name and data types\n",
    "print(session_df.dtypes)\n",
    "print(\"\\n\")\n",
    "print(user_df.dtypes)\n",
    "print(\"\\n\")\n",
    "print(order_df.dtypes)"
   ]
  },
  {
   "cell_type": "code",
   "execution_count": 5,
   "metadata": {},
   "outputs": [
    {
     "name": "stdout",
     "output_type": "stream",
     "text": [
      "           order_id  total_order_amount\n",
      "count  4.297460e+05        22497.000000\n",
      "mean   7.431715e+06          105.467637\n",
      "std    1.047079e+06           92.983694\n",
      "min    0.000000e+00            0.000000\n",
      "25%    6.608284e+06           58.926000\n",
      "50%    7.652292e+06           82.500000\n",
      "75%    8.383728e+06          118.316000\n",
      "max    8.986668e+06         2648.448000\n",
      "\n",
      "\n",
      "       loyalty_point_balance\n",
      "count            9460.000000\n",
      "mean              130.925793\n",
      "std               545.617690\n",
      "min                 0.000000\n",
      "25%                 0.000000\n",
      "50%                 0.000000\n",
      "75%                60.000000\n",
      "max             31981.000000\n",
      "\n",
      "\n",
      "           order_id  grand_total_usd\n",
      "count  5.921300e+04     59213.000000\n",
      "mean   5.290985e+06       117.317243\n",
      "std    2.471617e+06       119.132679\n",
      "min    7.020000e+03         0.000000\n",
      "25%    3.345354e+06        66.340000\n",
      "50%    5.675588e+06        91.440000\n",
      "75%    7.350417e+06       131.860000\n",
      "max    9.009989e+06     15269.300000\n"
     ]
    }
   ],
   "source": [
    "# Get summary statistics for numerical columns\n",
    "print(session_df.describe())\n",
    "print(\"\\n\")\n",
    "print(user_df.describe())\n",
    "print(\"\\n\")\n",
    "print(order_df.describe())"
   ]
  },
  {
   "cell_type": "code",
   "execution_count": 6,
   "metadata": {},
   "outputs": [
    {
     "name": "stdout",
     "output_type": "stream",
     "text": [
      "session_id                    0\n",
      "operating_system              0\n",
      "session_date                  0\n",
      "event_timestamp               0\n",
      "event_transaction_id          0\n",
      "country_name              11258\n",
      "final_user_id                 0\n",
      "guest_uuid_id            588166\n",
      "device_id                 61249\n",
      "anonymous_id                  0\n",
      "first_user_type               0\n",
      "first_registered_type         0\n",
      "last_user_type                0\n",
      "last_registered_type          0\n",
      "device_model              61249\n",
      "event_name                    0\n",
      "page_source              755965\n",
      "order_id                 416936\n",
      "total_order_amount       824185\n",
      "dtype: int64\n",
      "\n",
      "\n",
      "user_id                     0\n",
      "user_gender               760\n",
      "country_name             1278\n",
      "loyalty_point_balance       0\n",
      "first_order_date         2146\n",
      "last_order_date          2146\n",
      "dtype: int64\n",
      "\n",
      "\n",
      "order_id                        0\n",
      "order_placed_date               0\n",
      "user_id                         0\n",
      "order_status_name               0\n",
      "order_type_name                 6\n",
      "order_type_group_name           6\n",
      "order_channel_name              0\n",
      "order_picked_date_utc       10299\n",
      "order_delivered_date_utc       68\n",
      "delivery_country_name           0\n",
      "grand_total_usd                 0\n",
      "dtype: int64\n"
     ]
    }
   ],
   "source": [
    "# Check missing value\n",
    "print(session_df.isnull().sum())\n",
    "print(\"\\n\")\n",
    "print(user_df.isnull().sum())\n",
    "print(\"\\n\")\n",
    "print(order_df.isnull().sum())\n"
   ]
  },
  {
   "cell_type": "markdown",
   "metadata": {},
   "source": [
    "### Step 2: Data Cleaning & Preprocessing"
   ]
  },
  {
   "cell_type": "markdown",
   "metadata": {},
   "source": [
    "#### Step 2.1 - Handle the Missing Value"
   ]
  },
  {
   "cell_type": "markdown",
   "metadata": {},
   "source": [
    "##### a. Session Data (session_df)"
   ]
  },
  {
   "cell_type": "code",
   "execution_count": 7,
   "metadata": {},
   "outputs": [
    {
     "name": "stderr",
     "output_type": "stream",
     "text": [
      "/var/folders/j3/1wft7hvd0y15syqxk8njqtx40000gn/T/ipykernel_16881/2120324387.py:2: FutureWarning: A value is trying to be set on a copy of a DataFrame or Series through chained assignment using an inplace method.\n",
      "The behavior will change in pandas 3.0. This inplace method will never work because the intermediate object on which we are setting values always behaves as a copy.\n",
      "\n",
      "For example, when doing 'df[col].method(value, inplace=True)', try using 'df.method({col: value}, inplace=True)' or df[col] = df[col].method(value) instead, to perform the operation inplace on the original object.\n",
      "\n",
      "\n",
      "  session_df['country_name'].fillna('Unknown', inplace=True) # important for segmentation\n",
      "/var/folders/j3/1wft7hvd0y15syqxk8njqtx40000gn/T/ipykernel_16881/2120324387.py:3: FutureWarning: A value is trying to be set on a copy of a DataFrame or Series through chained assignment using an inplace method.\n",
      "The behavior will change in pandas 3.0. This inplace method will never work because the intermediate object on which we are setting values always behaves as a copy.\n",
      "\n",
      "For example, when doing 'df[col].method(value, inplace=True)', try using 'df.method({col: value}, inplace=True)' or df[col] = df[col].method(value) instead, to perform the operation inplace on the original object.\n",
      "\n",
      "\n",
      "  session_df['guest_uuid_id'].fillna('N/A', inplace=True) # might drop later ; keep it for now\n",
      "/var/folders/j3/1wft7hvd0y15syqxk8njqtx40000gn/T/ipykernel_16881/2120324387.py:4: FutureWarning: A value is trying to be set on a copy of a DataFrame or Series through chained assignment using an inplace method.\n",
      "The behavior will change in pandas 3.0. This inplace method will never work because the intermediate object on which we are setting values always behaves as a copy.\n",
      "\n",
      "For example, when doing 'df[col].method(value, inplace=True)', try using 'df.method({col: value}, inplace=True)' or df[col] = df[col].method(value) instead, to perform the operation inplace on the original object.\n",
      "\n",
      "\n",
      "  session_df['device_id'].fillna('Unknown Device', inplace=True) # important to see customer device\n",
      "/var/folders/j3/1wft7hvd0y15syqxk8njqtx40000gn/T/ipykernel_16881/2120324387.py:5: FutureWarning: A value is trying to be set on a copy of a DataFrame or Series through chained assignment using an inplace method.\n",
      "The behavior will change in pandas 3.0. This inplace method will never work because the intermediate object on which we are setting values always behaves as a copy.\n",
      "\n",
      "For example, when doing 'df[col].method(value, inplace=True)', try using 'df.method({col: value}, inplace=True)' or df[col] = df[col].method(value) instead, to perform the operation inplace on the original object.\n",
      "\n",
      "\n",
      "  session_df['device_model'].fillna('Unknown Device', inplace=True) # important to see customer device\n",
      "/var/folders/j3/1wft7hvd0y15syqxk8njqtx40000gn/T/ipykernel_16881/2120324387.py:7: FutureWarning: A value is trying to be set on a copy of a DataFrame or Series through chained assignment using an inplace method.\n",
      "The behavior will change in pandas 3.0. This inplace method will never work because the intermediate object on which we are setting values always behaves as a copy.\n",
      "\n",
      "For example, when doing 'df[col].method(value, inplace=True)', try using 'df.method({col: value}, inplace=True)' or df[col] = df[col].method(value) instead, to perform the operation inplace on the original object.\n",
      "\n",
      "\n",
      "  session_df['total_order_amount'].fillna(0, inplace=True) # 0 indicates not purchase has being made\n"
     ]
    }
   ],
   "source": [
    "# handling missing value in Session Data (session_df)\n",
    "session_df['country_name'].fillna('Unknown', inplace=True) # important for segmentation\n",
    "session_df['guest_uuid_id'].fillna('N/A', inplace=True) # might drop later ; keep it for now\n",
    "session_df['device_id'].fillna('Unknown Device', inplace=True) # important to see customer device\n",
    "session_df['device_model'].fillna('Unknown Device', inplace=True) # important to see customer device\n",
    "session_df.drop(columns=['page_source'], inplace=True) # drop because large portion is missing & not reliable\n",
    "session_df['total_order_amount'].fillna(0, inplace=True) # 0 indicates not purchase has being made"
   ]
  },
  {
   "cell_type": "code",
   "execution_count": 8,
   "metadata": {},
   "outputs": [
    {
     "name": "stdout",
     "output_type": "stream",
     "text": [
      "Session DataFrame Shape after Preprocessing: (846682, 18)\n"
     ]
    }
   ],
   "source": [
    "# Check shape of the dataframe\n",
    "print(f\"Session DataFrame Shape after Preprocessing: {session_df.shape}\")"
   ]
  },
  {
   "cell_type": "markdown",
   "metadata": {},
   "source": [
    "##### b. User Data (user_df)"
   ]
  },
  {
   "cell_type": "code",
   "execution_count": 9,
   "metadata": {},
   "outputs": [
    {
     "name": "stderr",
     "output_type": "stream",
     "text": [
      "/var/folders/j3/1wft7hvd0y15syqxk8njqtx40000gn/T/ipykernel_16881/2946279518.py:1: FutureWarning: A value is trying to be set on a copy of a DataFrame or Series through chained assignment using an inplace method.\n",
      "The behavior will change in pandas 3.0. This inplace method will never work because the intermediate object on which we are setting values always behaves as a copy.\n",
      "\n",
      "For example, when doing 'df[col].method(value, inplace=True)', try using 'df.method({col: value}, inplace=True)' or df[col] = df[col].method(value) instead, to perform the operation inplace on the original object.\n",
      "\n",
      "\n",
      "  user_df['user_gender'].fillna('Unknown', inplace=True)\n",
      "/var/folders/j3/1wft7hvd0y15syqxk8njqtx40000gn/T/ipykernel_16881/2946279518.py:2: FutureWarning: A value is trying to be set on a copy of a DataFrame or Series through chained assignment using an inplace method.\n",
      "The behavior will change in pandas 3.0. This inplace method will never work because the intermediate object on which we are setting values always behaves as a copy.\n",
      "\n",
      "For example, when doing 'df[col].method(value, inplace=True)', try using 'df.method({col: value}, inplace=True)' or df[col] = df[col].method(value) instead, to perform the operation inplace on the original object.\n",
      "\n",
      "\n",
      "  user_df['country_name'].fillna('Unknown', inplace=True)\n",
      "/var/folders/j3/1wft7hvd0y15syqxk8njqtx40000gn/T/ipykernel_16881/2946279518.py:3: FutureWarning: A value is trying to be set on a copy of a DataFrame or Series through chained assignment using an inplace method.\n",
      "The behavior will change in pandas 3.0. This inplace method will never work because the intermediate object on which we are setting values always behaves as a copy.\n",
      "\n",
      "For example, when doing 'df[col].method(value, inplace=True)', try using 'df.method({col: value}, inplace=True)' or df[col] = df[col].method(value) instead, to perform the operation inplace on the original object.\n",
      "\n",
      "\n",
      "  user_df['first_order_date'].fillna(pd.to_datetime('1970-01-01'), inplace=True) # placeholder date like '1970-01-01' to handle missing for users who haven’t placed an order\n",
      "/var/folders/j3/1wft7hvd0y15syqxk8njqtx40000gn/T/ipykernel_16881/2946279518.py:4: FutureWarning: A value is trying to be set on a copy of a DataFrame or Series through chained assignment using an inplace method.\n",
      "The behavior will change in pandas 3.0. This inplace method will never work because the intermediate object on which we are setting values always behaves as a copy.\n",
      "\n",
      "For example, when doing 'df[col].method(value, inplace=True)', try using 'df.method({col: value}, inplace=True)' or df[col] = df[col].method(value) instead, to perform the operation inplace on the original object.\n",
      "\n",
      "\n",
      "  user_df['last_order_date'].fillna(pd.to_datetime('1970-01-01'), inplace=True)\n"
     ]
    }
   ],
   "source": [
    "user_df['user_gender'].fillna('Unknown', inplace=True)\n",
    "user_df['country_name'].fillna('Unknown', inplace=True)\n",
    "user_df['first_order_date'].fillna(pd.to_datetime('1970-01-01'), inplace=True) # placeholder date like '1970-01-01' to handle missing for users who haven’t placed an order\n",
    "user_df['last_order_date'].fillna(pd.to_datetime('1970-01-01'), inplace=True)"
   ]
  },
  {
   "cell_type": "code",
   "execution_count": 10,
   "metadata": {},
   "outputs": [
    {
     "name": "stdout",
     "output_type": "stream",
     "text": [
      "User DataFrame Shape after Preprocessing: (9460, 6)\n"
     ]
    }
   ],
   "source": [
    "# Check shape of the dataframe\n",
    "print(f\"User DataFrame Shape after Preprocessing: {user_df.shape}\")"
   ]
  },
  {
   "cell_type": "markdown",
   "metadata": {},
   "source": [
    "##### c. Order Data (order_df)"
   ]
  },
  {
   "cell_type": "code",
   "execution_count": 11,
   "metadata": {},
   "outputs": [
    {
     "name": "stderr",
     "output_type": "stream",
     "text": [
      "/var/folders/j3/1wft7hvd0y15syqxk8njqtx40000gn/T/ipykernel_16881/1375942129.py:1: FutureWarning: A value is trying to be set on a copy of a DataFrame or Series through chained assignment using an inplace method.\n",
      "The behavior will change in pandas 3.0. This inplace method will never work because the intermediate object on which we are setting values always behaves as a copy.\n",
      "\n",
      "For example, when doing 'df[col].method(value, inplace=True)', try using 'df.method({col: value}, inplace=True)' or df[col] = df[col].method(value) instead, to perform the operation inplace on the original object.\n",
      "\n",
      "\n",
      "  order_df['order_type_name'].fillna('Unknown', inplace=True)\n",
      "/var/folders/j3/1wft7hvd0y15syqxk8njqtx40000gn/T/ipykernel_16881/1375942129.py:2: FutureWarning: A value is trying to be set on a copy of a DataFrame or Series through chained assignment using an inplace method.\n",
      "The behavior will change in pandas 3.0. This inplace method will never work because the intermediate object on which we are setting values always behaves as a copy.\n",
      "\n",
      "For example, when doing 'df[col].method(value, inplace=True)', try using 'df.method({col: value}, inplace=True)' or df[col] = df[col].method(value) instead, to perform the operation inplace on the original object.\n",
      "\n",
      "\n",
      "  order_df['order_type_group_name'].fillna('Unknown', inplace=True)\n",
      "/var/folders/j3/1wft7hvd0y15syqxk8njqtx40000gn/T/ipykernel_16881/1375942129.py:3: FutureWarning: A value is trying to be set on a copy of a DataFrame or Series through chained assignment using an inplace method.\n",
      "The behavior will change in pandas 3.0. This inplace method will never work because the intermediate object on which we are setting values always behaves as a copy.\n",
      "\n",
      "For example, when doing 'df[col].method(value, inplace=True)', try using 'df.method({col: value}, inplace=True)' or df[col] = df[col].method(value) instead, to perform the operation inplace on the original object.\n",
      "\n",
      "\n",
      "  order_df['order_picked_date_utc'].fillna(pd.to_datetime('1970-01-01'), inplace=True)\n",
      "/var/folders/j3/1wft7hvd0y15syqxk8njqtx40000gn/T/ipykernel_16881/1375942129.py:4: FutureWarning: A value is trying to be set on a copy of a DataFrame or Series through chained assignment using an inplace method.\n",
      "The behavior will change in pandas 3.0. This inplace method will never work because the intermediate object on which we are setting values always behaves as a copy.\n",
      "\n",
      "For example, when doing 'df[col].method(value, inplace=True)', try using 'df.method({col: value}, inplace=True)' or df[col] = df[col].method(value) instead, to perform the operation inplace on the original object.\n",
      "\n",
      "\n",
      "  order_df['order_delivered_date_utc'].fillna(pd.to_datetime('1970-01-01'), inplace=True)\n"
     ]
    }
   ],
   "source": [
    "order_df['order_type_name'].fillna('Unknown', inplace=True)\n",
    "order_df['order_type_group_name'].fillna('Unknown', inplace=True)\n",
    "order_df['order_picked_date_utc'].fillna(pd.to_datetime('1970-01-01'), inplace=True)\n",
    "order_df['order_delivered_date_utc'].fillna(pd.to_datetime('1970-01-01'), inplace=True)"
   ]
  },
  {
   "cell_type": "code",
   "execution_count": 12,
   "metadata": {},
   "outputs": [
    {
     "name": "stdout",
     "output_type": "stream",
     "text": [
      "Order DataFrame Shape after Preprocessing: (59213, 11)\n"
     ]
    }
   ],
   "source": [
    "# Check shape of the dataframe\n",
    "print(f\"Order DataFrame Shape after Preprocessing: {order_df.shape}\")"
   ]
  },
  {
   "cell_type": "markdown",
   "metadata": {},
   "source": [
    "#### Step 2.2 - Feature Engineering: session_df ; session_duration ; user_df\n",
    "\n",
    "Overview of Feature Engineering Steps:-\n",
    "1. Convert Date Columns to Datetime Format\n",
    "2. Calculate Session Duration\n",
    "3. Calculate User Activity Metrics\n",
    "4. Calculate Order Metrics\n",
    "5. Aggregate Features at the User Level\n",
    "6. Handle Missing Values in Aggregated Features\n"
   ]
  },
  {
   "cell_type": "markdown",
   "metadata": {},
   "source": [
    "##### 2.2.1. Feature Engineering - for 'session_df'"
   ]
  },
  {
   "cell_type": "code",
   "execution_count": 13,
   "metadata": {},
   "outputs": [],
   "source": [
    "# Convert event_timestamp and session_date to datetime format\n",
    "session_df['event_timestamp'] = pd.to_datetime(session_df['event_timestamp'])\n",
    "session_df['session_date'] = pd.to_datetime(session_df['session_date'])\n"
   ]
  },
  {
   "cell_type": "code",
   "execution_count": 14,
   "metadata": {},
   "outputs": [],
   "source": [
    "import pandas as pd\n",
    "import numpy as np\n",
    "\n",
    "# Create session_duration Feature by finding the difference between event_timestamp and session_date.\n",
    "# Calculate session duration in seconds\n",
    "session_df['session_duration'] = (session_df['event_timestamp'] - session_df['session_date']).dt.total_seconds()\n",
    "\n",
    "# Replace negative or zero durations with NaN and drop them\n",
    "session_df['session_duration'] = session_df['session_duration'].apply(lambda x: x if x > 0 else np.nan)\n",
    "session_df.dropna(subset=['session_duration'], inplace=True)\n"
   ]
  },
  {
   "cell_type": "code",
   "execution_count": 15,
   "metadata": {},
   "outputs": [],
   "source": [
    "# Features to create:\n",
    "\n",
    "# total_sessions: Total number of sessions per user - Counts unique session IDs per user.\n",
    "# average_session_duration: Average duration of sessions per user - Calculates mean session duration.\n",
    "# total_session_duration: Total duration of all sessions per user - Sums all session durations\n",
    "# unique_devices: Number of unique devices used by the user - Counts unique devices used\n",
    "# most_used_device: The device most frequently used by the user - Identifies the most frequently used device model\n",
    "# operating_system_mode: The most frequently used operating system by the user - Identifies the most frequently used operating system\n",
    "\n",
    "# Aggregate session data to user level\n",
    "session_agg = session_df.groupby('final_user_id').agg(\n",
    "    total_sessions=pd.NamedAgg(column='session_id', aggfunc='nunique'),\n",
    "    average_session_duration=pd.NamedAgg(column='session_duration', aggfunc='mean'),\n",
    "    total_session_duration=pd.NamedAgg(column='session_duration', aggfunc='sum'),\n",
    "    unique_devices=pd.NamedAgg(column='device_id', aggfunc=lambda x: x.nunique()),\n",
    "    most_used_device=pd.NamedAgg(column='device_model', aggfunc=lambda x: x.value_counts().idxmax() if x.notnull().any() else 'Unknown'),\n",
    "    operating_system_mode=pd.NamedAgg(column='operating_system', aggfunc=lambda x: x.value_counts().idxmax() if x.notnull().any() else 'Unknown')\n",
    ").reset_index()\n",
    "\n",
    "# Rename 'final_user_id' to 'user_id' for consistency\n",
    "session_agg.rename(columns={'final_user_id': 'user_id'}, inplace=True)\n"
   ]
  },
  {
   "cell_type": "markdown",
   "metadata": {},
   "source": [
    "##### 2.2.2. Feature Engineering - for 'user_df'"
   ]
  },
  {
   "cell_type": "code",
   "execution_count": 16,
   "metadata": {},
   "outputs": [],
   "source": [
    "# Convert date columns to datetime\n",
    "user_df['first_order_date'] = pd.to_datetime(user_df['first_order_date'])\n",
    "user_df['last_order_date'] = pd.to_datetime(user_df['last_order_date'])"
   ]
  },
  {
   "cell_type": "code",
   "execution_count": 17,
   "metadata": {},
   "outputs": [
    {
     "name": "stderr",
     "output_type": "stream",
     "text": [
      "/var/folders/j3/1wft7hvd0y15syqxk8njqtx40000gn/T/ipykernel_16881/3477626441.py:11: FutureWarning: A value is trying to be set on a copy of a DataFrame or Series through chained assignment using an inplace method.\n",
      "The behavior will change in pandas 3.0. This inplace method will never work because the intermediate object on which we are setting values always behaves as a copy.\n",
      "\n",
      "For example, when doing 'df[col].method(value, inplace=True)', try using 'df.method({col: value}, inplace=True)' or df[col] = df[col].method(value) instead, to perform the operation inplace on the original object.\n",
      "\n",
      "\n",
      "  user_df['customer_lifetime'].fillna(0, inplace=True)\n"
     ]
    }
   ],
   "source": [
    "# Create customer_lifetime Feature by calculating the duration between the first and \n",
    "# last order dates to understand customer longevity.\n",
    "# customer_lifetime: Represents how long a customer has been active.\n",
    "# Negative or NaN values are set to 0, indicating either a single purchase or no purchase.\n",
    "\n",
    "# Calculate customer lifetime in days\n",
    "user_df['customer_lifetime'] = (user_df['last_order_date'] - user_df['first_order_date']).dt.days\n",
    "\n",
    "# Handle cases where customer_lifetime is negative or NaN\n",
    "user_df['customer_lifetime'] = user_df['customer_lifetime'].apply(lambda x: x if x >= 0 else 0)\n",
    "user_df['customer_lifetime'].fillna(0, inplace=True)\n"
   ]
  },
  {
   "cell_type": "code",
   "execution_count": 18,
   "metadata": {},
   "outputs": [
    {
     "name": "stderr",
     "output_type": "stream",
     "text": [
      "/var/folders/j3/1wft7hvd0y15syqxk8njqtx40000gn/T/ipykernel_16881/1971009435.py:12: FutureWarning: A value is trying to be set on a copy of a DataFrame or Series through chained assignment using an inplace method.\n",
      "The behavior will change in pandas 3.0. This inplace method will never work because the intermediate object on which we are setting values always behaves as a copy.\n",
      "\n",
      "For example, when doing 'df[col].method(value, inplace=True)', try using 'df.method({col: value}, inplace=True)' or df[col] = df[col].method(value) instead, to perform the operation inplace on the original object.\n",
      "\n",
      "\n",
      "  user_df['total_orders'].fillna(0, inplace=True)\n"
     ]
    }
   ],
   "source": [
    "# Create total_orders Feature by calculate the total number of orders per user by merging with order_df\n",
    "\n",
    "# Calculate total orders per user\n",
    "total_orders = order_df.groupby('user_id').agg(\n",
    "    total_orders=pd.NamedAgg(column='order_id', aggfunc='count')\n",
    ").reset_index()\n",
    "\n",
    "# Merge with user_df\n",
    "user_df = user_df.merge(total_orders, on='user_id', how='left')\n",
    "\n",
    "# Fill NaN values with 0 for users with no orders\n",
    "user_df['total_orders'].fillna(0, inplace=True)\n"
   ]
  },
  {
   "cell_type": "code",
   "execution_count": 19,
   "metadata": {},
   "outputs": [
    {
     "name": "stderr",
     "output_type": "stream",
     "text": [
      "/var/folders/j3/1wft7hvd0y15syqxk8njqtx40000gn/T/ipykernel_16881/958959571.py:15: FutureWarning: A value is trying to be set on a copy of a DataFrame or Series through chained assignment using an inplace method.\n",
      "The behavior will change in pandas 3.0. This inplace method will never work because the intermediate object on which we are setting values always behaves as a copy.\n",
      "\n",
      "For example, when doing 'df[col].method(value, inplace=True)', try using 'df.method({col: value}, inplace=True)' or df[col] = df[col].method(value) instead, to perform the operation inplace on the original object.\n",
      "\n",
      "\n",
      "  user_df['average_order_value'].replace([np.inf, -np.inf], 0, inplace=True)\n",
      "/var/folders/j3/1wft7hvd0y15syqxk8njqtx40000gn/T/ipykernel_16881/958959571.py:16: FutureWarning: A value is trying to be set on a copy of a DataFrame or Series through chained assignment using an inplace method.\n",
      "The behavior will change in pandas 3.0. This inplace method will never work because the intermediate object on which we are setting values always behaves as a copy.\n",
      "\n",
      "For example, when doing 'df[col].method(value, inplace=True)', try using 'df.method({col: value}, inplace=True)' or df[col] = df[col].method(value) instead, to perform the operation inplace on the original object.\n",
      "\n",
      "\n",
      "  user_df['average_order_value'].fillna(0, inplace=True)\n"
     ]
    }
   ],
   "source": [
    "# Create average_order_value Feature by calculate the average order value per user\n",
    "\n",
    "# Calculate total spend per user\n",
    "total_spend = order_df.groupby('user_id').agg(\n",
    "    total_spend=pd.NamedAgg(column='grand_total_usd', aggfunc='sum')\n",
    ").reset_index()\n",
    "\n",
    "# Merge with user_df\n",
    "user_df = user_df.merge(total_spend, on='user_id', how='left')\n",
    "\n",
    "# Calculate average order value\n",
    "user_df['average_order_value'] = user_df['total_spend'] / user_df['total_orders']\n",
    "\n",
    "# Handle divisions by zero\n",
    "user_df['average_order_value'].replace([np.inf, -np.inf], 0, inplace=True)\n",
    "user_df['average_order_value'].fillna(0, inplace=True)\n"
   ]
  },
  {
   "cell_type": "code",
   "execution_count": 20,
   "metadata": {},
   "outputs": [],
   "source": [
    "# Create loyalty_level Feature by categorize users based on their loyalty point balance\n",
    "\n",
    "# Define loyalty levels\n",
    "def categorize_loyalty(points):\n",
    "    if points >= 10000:\n",
    "        return 'Platinum'\n",
    "    elif points >= 5000:\n",
    "        return 'Gold'\n",
    "    elif points >= 1000:\n",
    "        return 'Silver'\n",
    "    else:\n",
    "        return 'Bronze'\n",
    "\n",
    "user_df['loyalty_level'] = user_df['loyalty_point_balance'].apply(categorize_loyalty)\n"
   ]
  },
  {
   "cell_type": "markdown",
   "metadata": {},
   "source": [
    "##### 2.2.3. Feature Engineering - for 'order_df'"
   ]
  },
  {
   "cell_type": "code",
   "execution_count": 21,
   "metadata": {},
   "outputs": [],
   "source": [
    "# Convert date columns to datetime\n",
    "order_df['order_placed_date'] = pd.to_datetime(order_df['order_placed_date'])\n",
    "order_df['order_picked_date_utc'] = pd.to_datetime(order_df['order_picked_date_utc'])\n",
    "order_df['order_delivered_date_utc'] = pd.to_datetime(order_df['order_delivered_date_utc'])"
   ]
  },
  {
   "cell_type": "code",
   "execution_count": 22,
   "metadata": {},
   "outputs": [],
   "source": [
    "# Create delivery_duration Feature by calculate the time taken for an order to be delivered from the time it was placed\n",
    "# delivery_duration: Time in hours between order placement and delivery\n",
    "# Unrealistic durations (negative or over a week) are set to NaN\n",
    "\n",
    "# Calculate delivery duration in hours\n",
    "order_df['delivery_duration'] = (order_df['order_delivered_date_utc'] - order_df['order_placed_date']).dt.total_seconds() / 3600.0\n",
    "\n",
    "# Replace negative or unrealistic durations with NaN\n",
    "order_df['delivery_duration'] = order_df['delivery_duration'].apply(lambda x: x if x >= 0 and x < 168 else np.nan)  # Assuming deliveries should not take more than a week\n"
   ]
  },
  {
   "cell_type": "code",
   "execution_count": 23,
   "metadata": {},
   "outputs": [],
   "source": [
    "# Create is_express_delivery Feature to identify whether an order was delivered via \n",
    "# express delivery based on delivery duration\n",
    "\n",
    "# Define express delivery as delivery within 24 hours\n",
    "order_df['is_express_delivery'] = order_df['delivery_duration'].apply(lambda x: 1 if x <= 24 else 0)"
   ]
  },
  {
   "cell_type": "code",
   "execution_count": 24,
   "metadata": {},
   "outputs": [],
   "source": [
    "# Create user-level features from order data:\n",
    "# total_spend: Total amount spent by the user.\n",
    "# average_delivery_duration: Average delivery time for the user's orders.\n",
    "# express_delivery_ratio: Proportion of orders delivered via express delivery.\n",
    "\n",
    "# Aggregate order data to user level\n",
    "order_agg = order_df.groupby('user_id').agg(\n",
    "    total_spend=pd.NamedAgg(column='grand_total_usd', aggfunc='sum'),\n",
    "    average_delivery_duration=pd.NamedAgg(column='delivery_duration', aggfunc='mean'),\n",
    "    total_orders=pd.NamedAgg(column='order_id', aggfunc='count'),\n",
    "    express_delivery_orders=pd.NamedAgg(column='is_express_delivery', aggfunc='sum')\n",
    ").reset_index()\n",
    "\n",
    "# Calculate express delivery ratio\n",
    "order_agg['express_delivery_ratio'] = order_agg['express_delivery_orders'] / order_agg['total_orders']\n",
    "\n",
    "# Drop intermediate columns\n",
    "order_agg.drop(columns=['express_delivery_orders'], inplace=True)\n"
   ]
  },
  {
   "cell_type": "markdown",
   "metadata": {},
   "source": [
    "#### Step 3: Merging the dataset"
   ]
  },
  {
   "cell_type": "code",
   "execution_count": 25,
   "metadata": {},
   "outputs": [],
   "source": [
    "# average_delivery_duration: Mean delivery time across all orders\n",
    "# express_delivery_ratio: Fraction of orders delivered via express delivery\n",
    "\n",
    "# Merge session_agg and user_df\n",
    "user_session_df = pd.merge(user_df, session_agg, on='user_id', how='left')\n",
    "\n",
    "# Merge the above with order_agg\n",
    "final_df = pd.merge(user_session_df, order_agg, on='user_id', how='left')\n",
    "\n",
    "# Fill NaN values resulted from merging (for users with missing data in sessions or orders)\n",
    "final_df.fillna({\n",
    "    'total_sessions': 0,\n",
    "    'average_session_duration': 0,\n",
    "    'total_session_duration': 0,\n",
    "    'unique_devices': 0,\n",
    "    'most_used_device': 'Unknown',\n",
    "    'operating_system_mode': 'Unknown',\n",
    "    'total_spend': 0,\n",
    "    'average_delivery_duration': final_df['average_delivery_duration'].mean(),\n",
    "    'total_orders': 0,\n",
    "    'express_delivery_ratio': 0,\n",
    "    'average_order_value': 0,\n",
    "    'customer_lifetime': 0\n",
    "}, inplace=True)\n"
   ]
  },
  {
   "cell_type": "code",
   "execution_count": 26,
   "metadata": {},
   "outputs": [
    {
     "name": "stdout",
     "output_type": "stream",
     "text": [
      "Index(['user_id', 'user_gender', 'country_name', 'loyalty_point_balance',\n",
      "       'first_order_date', 'last_order_date', 'customer_lifetime',\n",
      "       'total_orders_x', 'total_spend_x', 'average_order_value',\n",
      "       'loyalty_level', 'total_sessions', 'average_session_duration',\n",
      "       'total_session_duration', 'unique_devices', 'most_used_device',\n",
      "       'operating_system_mode', 'total_spend_y', 'average_delivery_duration',\n",
      "       'total_orders_y', 'express_delivery_ratio'],\n",
      "      dtype='object')\n"
     ]
    }
   ],
   "source": [
    "# Check if the merge was successful\n",
    "print(final_df.columns)"
   ]
  },
  {
   "cell_type": "markdown",
   "metadata": {},
   "source": [
    "#### Step 4: Encoding Categorical Variables"
   ]
  },
  {
   "cell_type": "code",
   "execution_count": 27,
   "metadata": {},
   "outputs": [],
   "source": [
    "# Categorical features to encode:\n",
    "\n",
    "# user_gender\n",
    "# country_name\n",
    "# loyalty_level\n",
    "# most_used_device\n",
    "# operating_system_mode\n",
    "\n",
    "# One-hot encoding converts categorical variables into binary columns\n",
    "# drop_first=True avoids multicollinearity by dropping the first category\n",
    "\n",
    "\n",
    "# Select categorical columns\n",
    "categorical_cols = ['user_gender', 'country_name', 'loyalty_level', 'most_used_device', 'operating_system_mode']\n",
    "\n",
    "# Perform one-hot encoding\n",
    "final_df_encoded = pd.get_dummies(final_df, columns=categorical_cols, drop_first=True)\n"
   ]
  },
  {
   "cell_type": "code",
   "execution_count": 28,
   "metadata": {},
   "outputs": [
    {
     "name": "stdout",
     "output_type": "stream",
     "text": [
      "Index(['user_id', 'loyalty_point_balance', 'first_order_date',\n",
      "       'last_order_date', 'customer_lifetime', 'total_orders_x',\n",
      "       'total_spend_x', 'average_order_value', 'total_sessions',\n",
      "       'average_session_duration',\n",
      "       ...\n",
      "       'most_used_device_iPhone8,2', 'most_used_device_iPhone9,1',\n",
      "       'most_used_device_iPhone9,2', 'most_used_device_iPhone9,3',\n",
      "       'most_used_device_iPhone9,4', 'most_used_device_moto g73 5G',\n",
      "       'most_used_device_motorola razr (2020)', 'most_used_device_vivo 1902',\n",
      "       'operating_system_mode_ios', 'operating_system_mode_web'],\n",
      "      dtype='object', length=273)\n"
     ]
    }
   ],
   "source": [
    "print(final_df_encoded.columns)"
   ]
  },
  {
   "cell_type": "code",
   "execution_count": 29,
   "metadata": {},
   "outputs": [],
   "source": [
    "# Rename the columns by removing the _x suffix\n",
    "final_df_encoded.rename(columns={\n",
    "    'total_orders_x': 'total_orders',\n",
    "    'total_spend_x': 'total_spend'\n",
    "}, inplace=True)\n"
   ]
  },
  {
   "cell_type": "markdown",
   "metadata": {},
   "source": [
    "#### Step 5: Feature Scaling"
   ]
  },
  {
   "cell_type": "code",
   "execution_count": 30,
   "metadata": {},
   "outputs": [],
   "source": [
    "# Scale numerical features to ensure all features contribute equally to the distance calculations in clustering.\n",
    "\n",
    "# Features to scale:-\n",
    "\n",
    "# loyalty_point_balance\n",
    "# customer_lifetime\n",
    "# total_orders\n",
    "# average_order_value\n",
    "# total_sessions\n",
    "# average_session_duration\n",
    "# total_session_duration\n",
    "# unique_devices\n",
    "# total_spend\n",
    "# average_delivery_duration\n",
    "# express_delivery_ratio\n",
    "\n",
    "from sklearn.preprocessing import StandardScaler\n",
    "\n",
    "# Initialize scaler\n",
    "scaler = StandardScaler()\n",
    "\n",
    "# List of numerical columns\n",
    "numerical_cols = [\n",
    "    'loyalty_point_balance',\n",
    "    'customer_lifetime',\n",
    "    'total_orders',\n",
    "    'average_order_value',\n",
    "    'total_sessions',\n",
    "    'average_session_duration',\n",
    "    'total_session_duration',\n",
    "    'unique_devices',\n",
    "    'total_spend',\n",
    "    'average_delivery_duration',\n",
    "    'express_delivery_ratio'\n",
    "]\n",
    "\n",
    "# Fit and transform the data\n",
    "final_df_encoded[numerical_cols] = scaler.fit_transform(final_df_encoded[numerical_cols])\n"
   ]
  },
  {
   "cell_type": "markdown",
   "metadata": {},
   "source": [
    "#### Step 6: Data for Clustering"
   ]
  },
  {
   "cell_type": "code",
   "execution_count": 31,
   "metadata": {},
   "outputs": [],
   "source": [
    "# Final dataset for clustering\n",
    "clustering_df = final_df_encoded.copy()\n",
    "\n",
    "# Optional: Save the prepared data to a CSV file\n",
    "clustering_df.to_csv('/Users/sulaihasubi/Documents/GitHub/Floward/Dataset/prepared_clustering_data.csv', index=False)\n"
   ]
  },
  {
   "cell_type": "markdown",
   "metadata": {},
   "source": [
    "#### Step 7: Clustering - K-Means"
   ]
  },
  {
   "cell_type": "code",
   "execution_count": 32,
   "metadata": {},
   "outputs": [],
   "source": [
    "# Drop the datetime columns\n",
    "clustering_df = final_df_encoded.drop(columns=['first_order_date', 'last_order_date'])\n"
   ]
  },
  {
   "cell_type": "code",
   "execution_count": 33,
   "metadata": {},
   "outputs": [
    {
     "name": "stdout",
     "output_type": "stream",
     "text": [
      "Index(['user_id'], dtype='object')\n"
     ]
    }
   ],
   "source": [
    "# Identify non-numeric columns\n",
    "non_numeric_cols = clustering_df.select_dtypes(include=['object', 'category']).columns\n",
    "print(non_numeric_cols)\n"
   ]
  },
  {
   "cell_type": "code",
   "execution_count": 34,
   "metadata": {},
   "outputs": [],
   "source": [
    "# Drop non-numeric columns\n",
    "clustering_df = clustering_df.drop(columns=non_numeric_cols)\n"
   ]
  },
  {
   "cell_type": "code",
   "execution_count": 35,
   "metadata": {},
   "outputs": [],
   "source": [
    "# One-hot encode categorical columns\n",
    "clustering_df = pd.get_dummies(clustering_df, drop_first=True)\n"
   ]
  },
  {
   "cell_type": "code",
   "execution_count": 36,
   "metadata": {},
   "outputs": [],
   "source": [
    "clustering_df = clustering_df.dropna()\n"
   ]
  },
  {
   "cell_type": "code",
   "execution_count": 37,
   "metadata": {},
   "outputs": [
    {
     "data": {
      "image/png": "[encoded data removed]",
      "text/plain": [
       "<Figure size 1000x600 with 1 Axes>"
      ]
     },
     "metadata": {},
     "output_type": "display_data"
    }
   ],
   "source": [
    "from sklearn.cluster import KMeans\n",
    "import matplotlib.pyplot as plt\n",
    "\n",
    "# Initialize the list to hold sum of squared distances (SSE)\n",
    "sse = []\n",
    "k_range = range(2, 11)\n",
    "\n",
    "for k in k_range:\n",
    "    kmeans = KMeans(n_clusters=k, random_state=42)\n",
    "    kmeans.fit(clustering_df)\n",
    "    sse.append(kmeans.inertia_)\n",
    "\n",
    "# Plotting the results\n",
    "plt.figure(figsize=(10,6))\n",
    "plt.plot(k_range, sse, marker='o')\n",
    "plt.xlabel('Number of clusters')\n",
    "plt.ylabel('Sum of Squared Distances (SSE)')\n",
    "plt.title('Elbow Method For Optimal k')\n",
    "plt.show()\n"
   ]
  }
 ],
 "metadata": {
  "kernelspec": {
   "display_name": "Python 3",
   "language": "python",
   "name": "python3"
  },
  "language_info": {
   "codemirror_mode": {
    "name": "ipython",
    "version": 3
   },
   "file_extension": ".py",
   "mimetype": "text/x-python",
   "name": "python",
   "nbconvert_exporter": "python",
   "pygments_lexer": "ipython3",
   "version": "3.9.6"
  }
 },
 "nbformat": 4,
 "nbformat_minor": 2
}
